{
  "nbformat": 4,
  "nbformat_minor": 0,
  "metadata": {
    "colab": {
      "provenance": [],
      "collapsed_sections": [
        "WDDIDbD8JRCd"
      ]
    },
    "kernelspec": {
      "name": "python3",
      "display_name": "Python 3"
    },
    "language_info": {
      "name": "python"
    }
  },
  "cells": [
    {
      "cell_type": "markdown",
      "source": [
        "![人工智慧 - 自由團隊](https://raw.githubusercontent.com/chenkenanalytic/img/master/af/aifreeteam.png)\n",
        "# 【章節三】單元十一 回歸模型實作（二）支援向量回歸（SVR）\n",
        "# 注意事項\n",
        "* [[Kaggle Link](https://www.kaggle.com/shree1992/housedata)] 需先下載 data.csv 並上傳到此虛擬機(VM, Virtual Machine)上"
      ],
      "metadata": {
        "id": "2_-Xall63bGX"
      }
    },
    {
      "cell_type": "markdown",
      "source": [
        "## 步驟一: 讀取房價預測資料集"
      ],
      "metadata": {
        "id": "WDDIDbD8JRCd"
      }
    },
    {
      "cell_type": "code",
      "source": [
        "# 引入這部分會使用到的套件\n",
        "import pandas as pd\n",
        "\n",
        "Dataset = pd.read_csv(\"data.csv\")\n",
        "Dataset.head() # 看前五筆資料"
      ],
      "metadata": {
        "id": "N4X7cABzeESB",
        "colab": {
          "base_uri": "https://localhost:8080/",
          "height": 0
        },
        "outputId": "1e960042-a03a-414f-d161-76c4f3121528"
      },
      "execution_count": 29,
      "outputs": [
        {
          "output_type": "execute_result",
          "data": {
            "text/plain": [
              "                  date      price  bedrooms  bathrooms  sqft_living  sqft_lot  \\\n",
              "0  2014-05-02 00:00:00   313000.0       3.0       1.50         1340      7912   \n",
              "1  2014-05-02 00:00:00  2384000.0       5.0       2.50         3650      9050   \n",
              "2  2014-05-02 00:00:00   342000.0       3.0       2.00         1930     11947   \n",
              "3  2014-05-02 00:00:00   420000.0       3.0       2.25         2000      8030   \n",
              "4  2014-05-02 00:00:00   550000.0       4.0       2.50         1940     10500   \n",
              "\n",
              "   floors  waterfront  view  condition  sqft_above  sqft_basement  yr_built  \\\n",
              "0     1.5           0     0          3        1340              0      1955   \n",
              "1     2.0           0     4          5        3370            280      1921   \n",
              "2     1.0           0     0          4        1930              0      1966   \n",
              "3     1.0           0     0          4        1000           1000      1963   \n",
              "4     1.0           0     0          4        1140            800      1976   \n",
              "\n",
              "   yr_renovated                    street       city  statezip country  \n",
              "0          2005      18810 Densmore Ave N  Shoreline  WA 98133     USA  \n",
              "1             0           709 W Blaine St    Seattle  WA 98119     USA  \n",
              "2             0  26206-26214 143rd Ave SE       Kent  WA 98042     USA  \n",
              "3             0           857 170th Pl NE   Bellevue  WA 98008     USA  \n",
              "4          1992         9105 170th Ave NE    Redmond  WA 98052     USA  "
            ],
            "text/html": [
              "\n",
              "\n",
              "  <div id=\"df-137469c0-5a4e-415c-8637-6ce704128ddc\">\n",
              "    <div class=\"colab-df-container\">\n",
              "      <div>\n",
              "<style scoped>\n",
              "    .dataframe tbody tr th:only-of-type {\n",
              "        vertical-align: middle;\n",
              "    }\n",
              "\n",
              "    .dataframe tbody tr th {\n",
              "        vertical-align: top;\n",
              "    }\n",
              "\n",
              "    .dataframe thead th {\n",
              "        text-align: right;\n",
              "    }\n",
              "</style>\n",
              "<table border=\"1\" class=\"dataframe\">\n",
              "  <thead>\n",
              "    <tr style=\"text-align: right;\">\n",
              "      <th></th>\n",
              "      <th>date</th>\n",
              "      <th>price</th>\n",
              "      <th>bedrooms</th>\n",
              "      <th>bathrooms</th>\n",
              "      <th>sqft_living</th>\n",
              "      <th>sqft_lot</th>\n",
              "      <th>floors</th>\n",
              "      <th>waterfront</th>\n",
              "      <th>view</th>\n",
              "      <th>condition</th>\n",
              "      <th>sqft_above</th>\n",
              "      <th>sqft_basement</th>\n",
              "      <th>yr_built</th>\n",
              "      <th>yr_renovated</th>\n",
              "      <th>street</th>\n",
              "      <th>city</th>\n",
              "      <th>statezip</th>\n",
              "      <th>country</th>\n",
              "    </tr>\n",
              "  </thead>\n",
              "  <tbody>\n",
              "    <tr>\n",
              "      <th>0</th>\n",
              "      <td>2014-05-02 00:00:00</td>\n",
              "      <td>313000.0</td>\n",
              "      <td>3.0</td>\n",
              "      <td>1.50</td>\n",
              "      <td>1340</td>\n",
              "      <td>7912</td>\n",
              "      <td>1.5</td>\n",
              "      <td>0</td>\n",
              "      <td>0</td>\n",
              "      <td>3</td>\n",
              "      <td>1340</td>\n",
              "      <td>0</td>\n",
              "      <td>1955</td>\n",
              "      <td>2005</td>\n",
              "      <td>18810 Densmore Ave N</td>\n",
              "      <td>Shoreline</td>\n",
              "      <td>WA 98133</td>\n",
              "      <td>USA</td>\n",
              "    </tr>\n",
              "    <tr>\n",
              "      <th>1</th>\n",
              "      <td>2014-05-02 00:00:00</td>\n",
              "      <td>2384000.0</td>\n",
              "      <td>5.0</td>\n",
              "      <td>2.50</td>\n",
              "      <td>3650</td>\n",
              "      <td>9050</td>\n",
              "      <td>2.0</td>\n",
              "      <td>0</td>\n",
              "      <td>4</td>\n",
              "      <td>5</td>\n",
              "      <td>3370</td>\n",
              "      <td>280</td>\n",
              "      <td>1921</td>\n",
              "      <td>0</td>\n",
              "      <td>709 W Blaine St</td>\n",
              "      <td>Seattle</td>\n",
              "      <td>WA 98119</td>\n",
              "      <td>USA</td>\n",
              "    </tr>\n",
              "    <tr>\n",
              "      <th>2</th>\n",
              "      <td>2014-05-02 00:00:00</td>\n",
              "      <td>342000.0</td>\n",
              "      <td>3.0</td>\n",
              "      <td>2.00</td>\n",
              "      <td>1930</td>\n",
              "      <td>11947</td>\n",
              "      <td>1.0</td>\n",
              "      <td>0</td>\n",
              "      <td>0</td>\n",
              "      <td>4</td>\n",
              "      <td>1930</td>\n",
              "      <td>0</td>\n",
              "      <td>1966</td>\n",
              "      <td>0</td>\n",
              "      <td>26206-26214 143rd Ave SE</td>\n",
              "      <td>Kent</td>\n",
              "      <td>WA 98042</td>\n",
              "      <td>USA</td>\n",
              "    </tr>\n",
              "    <tr>\n",
              "      <th>3</th>\n",
              "      <td>2014-05-02 00:00:00</td>\n",
              "      <td>420000.0</td>\n",
              "      <td>3.0</td>\n",
              "      <td>2.25</td>\n",
              "      <td>2000</td>\n",
              "      <td>8030</td>\n",
              "      <td>1.0</td>\n",
              "      <td>0</td>\n",
              "      <td>0</td>\n",
              "      <td>4</td>\n",
              "      <td>1000</td>\n",
              "      <td>1000</td>\n",
              "      <td>1963</td>\n",
              "      <td>0</td>\n",
              "      <td>857 170th Pl NE</td>\n",
              "      <td>Bellevue</td>\n",
              "      <td>WA 98008</td>\n",
              "      <td>USA</td>\n",
              "    </tr>\n",
              "    <tr>\n",
              "      <th>4</th>\n",
              "      <td>2014-05-02 00:00:00</td>\n",
              "      <td>550000.0</td>\n",
              "      <td>4.0</td>\n",
              "      <td>2.50</td>\n",
              "      <td>1940</td>\n",
              "      <td>10500</td>\n",
              "      <td>1.0</td>\n",
              "      <td>0</td>\n",
              "      <td>0</td>\n",
              "      <td>4</td>\n",
              "      <td>1140</td>\n",
              "      <td>800</td>\n",
              "      <td>1976</td>\n",
              "      <td>1992</td>\n",
              "      <td>9105 170th Ave NE</td>\n",
              "      <td>Redmond</td>\n",
              "      <td>WA 98052</td>\n",
              "      <td>USA</td>\n",
              "    </tr>\n",
              "  </tbody>\n",
              "</table>\n",
              "</div>\n",
              "      <button class=\"colab-df-convert\" onclick=\"convertToInteractive('df-137469c0-5a4e-415c-8637-6ce704128ddc')\"\n",
              "              title=\"Convert this dataframe to an interactive table.\"\n",
              "              style=\"display:none;\">\n",
              "\n",
              "  <svg xmlns=\"http://www.w3.org/2000/svg\" height=\"24px\"viewBox=\"0 0 24 24\"\n",
              "       width=\"24px\">\n",
              "    <path d=\"M0 0h24v24H0V0z\" fill=\"none\"/>\n",
              "    <path d=\"M18.56 5.44l.94 2.06.94-2.06 2.06-.94-2.06-.94-.94-2.06-.94 2.06-2.06.94zm-11 1L8.5 8.5l.94-2.06 2.06-.94-2.06-.94L8.5 2.5l-.94 2.06-2.06.94zm10 10l.94 2.06.94-2.06 2.06-.94-2.06-.94-.94-2.06-.94 2.06-2.06.94z\"/><path d=\"M17.41 7.96l-1.37-1.37c-.4-.4-.92-.59-1.43-.59-.52 0-1.04.2-1.43.59L10.3 9.45l-7.72 7.72c-.78.78-.78 2.05 0 2.83L4 21.41c.39.39.9.59 1.41.59.51 0 1.02-.2 1.41-.59l7.78-7.78 2.81-2.81c.8-.78.8-2.07 0-2.86zM5.41 20L4 18.59l7.72-7.72 1.47 1.35L5.41 20z\"/>\n",
              "  </svg>\n",
              "      </button>\n",
              "\n",
              "\n",
              "\n",
              "    <div id=\"df-791deb85-b3b5-4e7e-818b-ee3e0c448e45\">\n",
              "      <button class=\"colab-df-quickchart\" onclick=\"quickchart('df-791deb85-b3b5-4e7e-818b-ee3e0c448e45')\"\n",
              "              title=\"Suggest charts.\"\n",
              "              style=\"display:none;\">\n",
              "\n",
              "<svg xmlns=\"http://www.w3.org/2000/svg\" height=\"24px\"viewBox=\"0 0 24 24\"\n",
              "     width=\"24px\">\n",
              "    <g>\n",
              "        <path d=\"M19 3H5c-1.1 0-2 .9-2 2v14c0 1.1.9 2 2 2h14c1.1 0 2-.9 2-2V5c0-1.1-.9-2-2-2zM9 17H7v-7h2v7zm4 0h-2V7h2v10zm4 0h-2v-4h2v4z\"/>\n",
              "    </g>\n",
              "</svg>\n",
              "      </button>\n",
              "    </div>\n",
              "\n",
              "<style>\n",
              "  .colab-df-quickchart {\n",
              "    background-color: #E8F0FE;\n",
              "    border: none;\n",
              "    border-radius: 50%;\n",
              "    cursor: pointer;\n",
              "    display: none;\n",
              "    fill: #1967D2;\n",
              "    height: 32px;\n",
              "    padding: 0 0 0 0;\n",
              "    width: 32px;\n",
              "  }\n",
              "\n",
              "  .colab-df-quickchart:hover {\n",
              "    background-color: #E2EBFA;\n",
              "    box-shadow: 0px 1px 2px rgba(60, 64, 67, 0.3), 0px 1px 3px 1px rgba(60, 64, 67, 0.15);\n",
              "    fill: #174EA6;\n",
              "  }\n",
              "\n",
              "  [theme=dark] .colab-df-quickchart {\n",
              "    background-color: #3B4455;\n",
              "    fill: #D2E3FC;\n",
              "  }\n",
              "\n",
              "  [theme=dark] .colab-df-quickchart:hover {\n",
              "    background-color: #434B5C;\n",
              "    box-shadow: 0px 1px 3px 1px rgba(0, 0, 0, 0.15);\n",
              "    filter: drop-shadow(0px 1px 2px rgba(0, 0, 0, 0.3));\n",
              "    fill: #FFFFFF;\n",
              "  }\n",
              "</style>\n",
              "\n",
              "    <script>\n",
              "      async function quickchart(key) {\n",
              "        const containerElement = document.querySelector('#' + key);\n",
              "        const charts = await google.colab.kernel.invokeFunction(\n",
              "            'suggestCharts', [key], {});\n",
              "      }\n",
              "    </script>\n",
              "\n",
              "      <script>\n",
              "\n",
              "function displayQuickchartButton(domScope) {\n",
              "  let quickchartButtonEl =\n",
              "    domScope.querySelector('#df-791deb85-b3b5-4e7e-818b-ee3e0c448e45 button.colab-df-quickchart');\n",
              "  quickchartButtonEl.style.display =\n",
              "    google.colab.kernel.accessAllowed ? 'block' : 'none';\n",
              "}\n",
              "\n",
              "        displayQuickchartButton(document);\n",
              "      </script>\n",
              "      <style>\n",
              "    .colab-df-container {\n",
              "      display:flex;\n",
              "      flex-wrap:wrap;\n",
              "      gap: 12px;\n",
              "    }\n",
              "\n",
              "    .colab-df-convert {\n",
              "      background-color: #E8F0FE;\n",
              "      border: none;\n",
              "      border-radius: 50%;\n",
              "      cursor: pointer;\n",
              "      display: none;\n",
              "      fill: #1967D2;\n",
              "      height: 32px;\n",
              "      padding: 0 0 0 0;\n",
              "      width: 32px;\n",
              "    }\n",
              "\n",
              "    .colab-df-convert:hover {\n",
              "      background-color: #E2EBFA;\n",
              "      box-shadow: 0px 1px 2px rgba(60, 64, 67, 0.3), 0px 1px 3px 1px rgba(60, 64, 67, 0.15);\n",
              "      fill: #174EA6;\n",
              "    }\n",
              "\n",
              "    [theme=dark] .colab-df-convert {\n",
              "      background-color: #3B4455;\n",
              "      fill: #D2E3FC;\n",
              "    }\n",
              "\n",
              "    [theme=dark] .colab-df-convert:hover {\n",
              "      background-color: #434B5C;\n",
              "      box-shadow: 0px 1px 3px 1px rgba(0, 0, 0, 0.15);\n",
              "      filter: drop-shadow(0px 1px 2px rgba(0, 0, 0, 0.3));\n",
              "      fill: #FFFFFF;\n",
              "    }\n",
              "  </style>\n",
              "\n",
              "      <script>\n",
              "        const buttonEl =\n",
              "          document.querySelector('#df-137469c0-5a4e-415c-8637-6ce704128ddc button.colab-df-convert');\n",
              "        buttonEl.style.display =\n",
              "          google.colab.kernel.accessAllowed ? 'block' : 'none';\n",
              "\n",
              "        async function convertToInteractive(key) {\n",
              "          const element = document.querySelector('#df-137469c0-5a4e-415c-8637-6ce704128ddc');\n",
              "          const dataTable =\n",
              "            await google.colab.kernel.invokeFunction('convertToInteractive',\n",
              "                                                     [key], {});\n",
              "          if (!dataTable) return;\n",
              "\n",
              "          const docLinkHtml = 'Like what you see? Visit the ' +\n",
              "            '<a target=\"_blank\" href=https://colab.research.google.com/notebooks/data_table.ipynb>data table notebook</a>'\n",
              "            + ' to learn more about interactive tables.';\n",
              "          element.innerHTML = '';\n",
              "          dataTable['output_type'] = 'display_data';\n",
              "          await google.colab.output.renderOutput(dataTable, element);\n",
              "          const docLink = document.createElement('div');\n",
              "          docLink.innerHTML = docLinkHtml;\n",
              "          element.appendChild(docLink);\n",
              "        }\n",
              "      </script>\n",
              "    </div>\n",
              "  </div>\n"
            ]
          },
          "metadata": {},
          "execution_count": 29
        }
      ]
    },
    {
      "cell_type": "markdown",
      "source": [
        "## 步驟二: 資料視覺化與特徵工程\n",
        "* 處理缺失值\n",
        "* 視覺化後再進行簡單的特徵工程"
      ],
      "metadata": {
        "id": "JdS-PrW3JYcc"
      }
    },
    {
      "cell_type": "code",
      "source": [
        "# 檢查欄位是否有 NaN\n",
        "for index, col in enumerate(Dataset.columns):\n",
        "  print(f\"第{index+1}個欄位 {col} 的缺失值共有 {Dataset[col].isnull().sum()} 筆\")"
      ],
      "metadata": {
        "id": "WKhQLPgJJmOc",
        "colab": {
          "base_uri": "https://localhost:8080/"
        },
        "outputId": "0077b902-288b-4214-9e08-e4065e8882ca"
      },
      "execution_count": 30,
      "outputs": [
        {
          "output_type": "stream",
          "name": "stdout",
          "text": [
            "第1個欄位 date 的缺失值共有 0 筆\n",
            "第2個欄位 price 的缺失值共有 0 筆\n",
            "第3個欄位 bedrooms 的缺失值共有 0 筆\n",
            "第4個欄位 bathrooms 的缺失值共有 0 筆\n",
            "第5個欄位 sqft_living 的缺失值共有 0 筆\n",
            "第6個欄位 sqft_lot 的缺失值共有 0 筆\n",
            "第7個欄位 floors 的缺失值共有 0 筆\n",
            "第8個欄位 waterfront 的缺失值共有 0 筆\n",
            "第9個欄位 view 的缺失值共有 0 筆\n",
            "第10個欄位 condition 的缺失值共有 0 筆\n",
            "第11個欄位 sqft_above 的缺失值共有 0 筆\n",
            "第12個欄位 sqft_basement 的缺失值共有 0 筆\n",
            "第13個欄位 yr_built 的缺失值共有 0 筆\n",
            "第14個欄位 yr_renovated 的缺失值共有 0 筆\n",
            "第15個欄位 street 的缺失值共有 0 筆\n",
            "第16個欄位 city 的缺失值共有 0 筆\n",
            "第17個欄位 statezip 的缺失值共有 0 筆\n",
            "第18個欄位 country 的缺失值共有 0 筆\n"
          ]
        }
      ]
    },
    {
      "cell_type": "markdown",
      "source": [
        "### 第一個欄位(date)"
      ],
      "metadata": {
        "id": "S8Xxguh4NHO_"
      }
    },
    {
      "cell_type": "code",
      "source": [
        "# 瞭解資料分布\n",
        "print(Dataset[\"date\"])\n",
        "\n",
        "#for each_date in Dataset[\"date\"]:\n",
        "#  print(each_date)"
      ],
      "metadata": {
        "id": "tujo45fG3b6E",
        "colab": {
          "base_uri": "https://localhost:8080/"
        },
        "outputId": "4c1358d9-7e40-44bd-bed0-53131f96c0b7"
      },
      "execution_count": 31,
      "outputs": [
        {
          "output_type": "stream",
          "name": "stdout",
          "text": [
            "0       2014-05-02 00:00:00\n",
            "1       2014-05-02 00:00:00\n",
            "2       2014-05-02 00:00:00\n",
            "3       2014-05-02 00:00:00\n",
            "4       2014-05-02 00:00:00\n",
            "               ...         \n",
            "4595    2014-07-09 00:00:00\n",
            "4596    2014-07-09 00:00:00\n",
            "4597    2014-07-09 00:00:00\n",
            "4598    2014-07-10 00:00:00\n",
            "4599    2014-07-10 00:00:00\n",
            "Name: date, Length: 4600, dtype: object\n"
          ]
        }
      ]
    },
    {
      "cell_type": "code",
      "source": [
        "# 進行特徵工程，對原始資料進行映射(mapping)\n",
        "mapping_rule = {\"05\": \"Time_A\", \"06\": \"Time_B\", \"07\": \"Time_C\"}\n",
        "Dataset[\"date\"] = Dataset.apply(lambda row: mapping_rule[row[\"date\"].split(\"-\")[1]], axis=1)\n",
        "\n",
        "# 瞭解 date 屬於 Time_A, Time_B, Time_C 的數量\n",
        "print(Dataset[\"date\"].value_counts())\n",
        "\n",
        "Dataset.head()"
      ],
      "metadata": {
        "id": "E-LSHhvDK7FG",
        "colab": {
          "base_uri": "https://localhost:8080/",
          "height": 495
        },
        "outputId": "e8d77932-d697-4d5f-b797-31e1ed75998b"
      },
      "execution_count": 32,
      "outputs": [
        {
          "output_type": "stream",
          "name": "stdout",
          "text": [
            "Time_B    2179\n",
            "Time_A    1768\n",
            "Time_C     653\n",
            "Name: date, dtype: int64\n"
          ]
        },
        {
          "output_type": "execute_result",
          "data": {
            "text/plain": [
              "     date      price  bedrooms  bathrooms  sqft_living  sqft_lot  floors  \\\n",
              "0  Time_A   313000.0       3.0       1.50         1340      7912     1.5   \n",
              "1  Time_A  2384000.0       5.0       2.50         3650      9050     2.0   \n",
              "2  Time_A   342000.0       3.0       2.00         1930     11947     1.0   \n",
              "3  Time_A   420000.0       3.0       2.25         2000      8030     1.0   \n",
              "4  Time_A   550000.0       4.0       2.50         1940     10500     1.0   \n",
              "\n",
              "   waterfront  view  condition  sqft_above  sqft_basement  yr_built  \\\n",
              "0           0     0          3        1340              0      1955   \n",
              "1           0     4          5        3370            280      1921   \n",
              "2           0     0          4        1930              0      1966   \n",
              "3           0     0          4        1000           1000      1963   \n",
              "4           0     0          4        1140            800      1976   \n",
              "\n",
              "   yr_renovated                    street       city  statezip country  \n",
              "0          2005      18810 Densmore Ave N  Shoreline  WA 98133     USA  \n",
              "1             0           709 W Blaine St    Seattle  WA 98119     USA  \n",
              "2             0  26206-26214 143rd Ave SE       Kent  WA 98042     USA  \n",
              "3             0           857 170th Pl NE   Bellevue  WA 98008     USA  \n",
              "4          1992         9105 170th Ave NE    Redmond  WA 98052     USA  "
            ],
            "text/html": [
              "\n",
              "\n",
              "  <div id=\"df-817d7f00-d83a-433c-94a8-39f6917d50de\">\n",
              "    <div class=\"colab-df-container\">\n",
              "      <div>\n",
              "<style scoped>\n",
              "    .dataframe tbody tr th:only-of-type {\n",
              "        vertical-align: middle;\n",
              "    }\n",
              "\n",
              "    .dataframe tbody tr th {\n",
              "        vertical-align: top;\n",
              "    }\n",
              "\n",
              "    .dataframe thead th {\n",
              "        text-align: right;\n",
              "    }\n",
              "</style>\n",
              "<table border=\"1\" class=\"dataframe\">\n",
              "  <thead>\n",
              "    <tr style=\"text-align: right;\">\n",
              "      <th></th>\n",
              "      <th>date</th>\n",
              "      <th>price</th>\n",
              "      <th>bedrooms</th>\n",
              "      <th>bathrooms</th>\n",
              "      <th>sqft_living</th>\n",
              "      <th>sqft_lot</th>\n",
              "      <th>floors</th>\n",
              "      <th>waterfront</th>\n",
              "      <th>view</th>\n",
              "      <th>condition</th>\n",
              "      <th>sqft_above</th>\n",
              "      <th>sqft_basement</th>\n",
              "      <th>yr_built</th>\n",
              "      <th>yr_renovated</th>\n",
              "      <th>street</th>\n",
              "      <th>city</th>\n",
              "      <th>statezip</th>\n",
              "      <th>country</th>\n",
              "    </tr>\n",
              "  </thead>\n",
              "  <tbody>\n",
              "    <tr>\n",
              "      <th>0</th>\n",
              "      <td>Time_A</td>\n",
              "      <td>313000.0</td>\n",
              "      <td>3.0</td>\n",
              "      <td>1.50</td>\n",
              "      <td>1340</td>\n",
              "      <td>7912</td>\n",
              "      <td>1.5</td>\n",
              "      <td>0</td>\n",
              "      <td>0</td>\n",
              "      <td>3</td>\n",
              "      <td>1340</td>\n",
              "      <td>0</td>\n",
              "      <td>1955</td>\n",
              "      <td>2005</td>\n",
              "      <td>18810 Densmore Ave N</td>\n",
              "      <td>Shoreline</td>\n",
              "      <td>WA 98133</td>\n",
              "      <td>USA</td>\n",
              "    </tr>\n",
              "    <tr>\n",
              "      <th>1</th>\n",
              "      <td>Time_A</td>\n",
              "      <td>2384000.0</td>\n",
              "      <td>5.0</td>\n",
              "      <td>2.50</td>\n",
              "      <td>3650</td>\n",
              "      <td>9050</td>\n",
              "      <td>2.0</td>\n",
              "      <td>0</td>\n",
              "      <td>4</td>\n",
              "      <td>5</td>\n",
              "      <td>3370</td>\n",
              "      <td>280</td>\n",
              "      <td>1921</td>\n",
              "      <td>0</td>\n",
              "      <td>709 W Blaine St</td>\n",
              "      <td>Seattle</td>\n",
              "      <td>WA 98119</td>\n",
              "      <td>USA</td>\n",
              "    </tr>\n",
              "    <tr>\n",
              "      <th>2</th>\n",
              "      <td>Time_A</td>\n",
              "      <td>342000.0</td>\n",
              "      <td>3.0</td>\n",
              "      <td>2.00</td>\n",
              "      <td>1930</td>\n",
              "      <td>11947</td>\n",
              "      <td>1.0</td>\n",
              "      <td>0</td>\n",
              "      <td>0</td>\n",
              "      <td>4</td>\n",
              "      <td>1930</td>\n",
              "      <td>0</td>\n",
              "      <td>1966</td>\n",
              "      <td>0</td>\n",
              "      <td>26206-26214 143rd Ave SE</td>\n",
              "      <td>Kent</td>\n",
              "      <td>WA 98042</td>\n",
              "      <td>USA</td>\n",
              "    </tr>\n",
              "    <tr>\n",
              "      <th>3</th>\n",
              "      <td>Time_A</td>\n",
              "      <td>420000.0</td>\n",
              "      <td>3.0</td>\n",
              "      <td>2.25</td>\n",
              "      <td>2000</td>\n",
              "      <td>8030</td>\n",
              "      <td>1.0</td>\n",
              "      <td>0</td>\n",
              "      <td>0</td>\n",
              "      <td>4</td>\n",
              "      <td>1000</td>\n",
              "      <td>1000</td>\n",
              "      <td>1963</td>\n",
              "      <td>0</td>\n",
              "      <td>857 170th Pl NE</td>\n",
              "      <td>Bellevue</td>\n",
              "      <td>WA 98008</td>\n",
              "      <td>USA</td>\n",
              "    </tr>\n",
              "    <tr>\n",
              "      <th>4</th>\n",
              "      <td>Time_A</td>\n",
              "      <td>550000.0</td>\n",
              "      <td>4.0</td>\n",
              "      <td>2.50</td>\n",
              "      <td>1940</td>\n",
              "      <td>10500</td>\n",
              "      <td>1.0</td>\n",
              "      <td>0</td>\n",
              "      <td>0</td>\n",
              "      <td>4</td>\n",
              "      <td>1140</td>\n",
              "      <td>800</td>\n",
              "      <td>1976</td>\n",
              "      <td>1992</td>\n",
              "      <td>9105 170th Ave NE</td>\n",
              "      <td>Redmond</td>\n",
              "      <td>WA 98052</td>\n",
              "      <td>USA</td>\n",
              "    </tr>\n",
              "  </tbody>\n",
              "</table>\n",
              "</div>\n",
              "      <button class=\"colab-df-convert\" onclick=\"convertToInteractive('df-817d7f00-d83a-433c-94a8-39f6917d50de')\"\n",
              "              title=\"Convert this dataframe to an interactive table.\"\n",
              "              style=\"display:none;\">\n",
              "\n",
              "  <svg xmlns=\"http://www.w3.org/2000/svg\" height=\"24px\"viewBox=\"0 0 24 24\"\n",
              "       width=\"24px\">\n",
              "    <path d=\"M0 0h24v24H0V0z\" fill=\"none\"/>\n",
              "    <path d=\"M18.56 5.44l.94 2.06.94-2.06 2.06-.94-2.06-.94-.94-2.06-.94 2.06-2.06.94zm-11 1L8.5 8.5l.94-2.06 2.06-.94-2.06-.94L8.5 2.5l-.94 2.06-2.06.94zm10 10l.94 2.06.94-2.06 2.06-.94-2.06-.94-.94-2.06-.94 2.06-2.06.94z\"/><path d=\"M17.41 7.96l-1.37-1.37c-.4-.4-.92-.59-1.43-.59-.52 0-1.04.2-1.43.59L10.3 9.45l-7.72 7.72c-.78.78-.78 2.05 0 2.83L4 21.41c.39.39.9.59 1.41.59.51 0 1.02-.2 1.41-.59l7.78-7.78 2.81-2.81c.8-.78.8-2.07 0-2.86zM5.41 20L4 18.59l7.72-7.72 1.47 1.35L5.41 20z\"/>\n",
              "  </svg>\n",
              "      </button>\n",
              "\n",
              "\n",
              "\n",
              "    <div id=\"df-0224e81b-7910-47b5-96e4-0db02ebe0236\">\n",
              "      <button class=\"colab-df-quickchart\" onclick=\"quickchart('df-0224e81b-7910-47b5-96e4-0db02ebe0236')\"\n",
              "              title=\"Suggest charts.\"\n",
              "              style=\"display:none;\">\n",
              "\n",
              "<svg xmlns=\"http://www.w3.org/2000/svg\" height=\"24px\"viewBox=\"0 0 24 24\"\n",
              "     width=\"24px\">\n",
              "    <g>\n",
              "        <path d=\"M19 3H5c-1.1 0-2 .9-2 2v14c0 1.1.9 2 2 2h14c1.1 0 2-.9 2-2V5c0-1.1-.9-2-2-2zM9 17H7v-7h2v7zm4 0h-2V7h2v10zm4 0h-2v-4h2v4z\"/>\n",
              "    </g>\n",
              "</svg>\n",
              "      </button>\n",
              "    </div>\n",
              "\n",
              "<style>\n",
              "  .colab-df-quickchart {\n",
              "    background-color: #E8F0FE;\n",
              "    border: none;\n",
              "    border-radius: 50%;\n",
              "    cursor: pointer;\n",
              "    display: none;\n",
              "    fill: #1967D2;\n",
              "    height: 32px;\n",
              "    padding: 0 0 0 0;\n",
              "    width: 32px;\n",
              "  }\n",
              "\n",
              "  .colab-df-quickchart:hover {\n",
              "    background-color: #E2EBFA;\n",
              "    box-shadow: 0px 1px 2px rgba(60, 64, 67, 0.3), 0px 1px 3px 1px rgba(60, 64, 67, 0.15);\n",
              "    fill: #174EA6;\n",
              "  }\n",
              "\n",
              "  [theme=dark] .colab-df-quickchart {\n",
              "    background-color: #3B4455;\n",
              "    fill: #D2E3FC;\n",
              "  }\n",
              "\n",
              "  [theme=dark] .colab-df-quickchart:hover {\n",
              "    background-color: #434B5C;\n",
              "    box-shadow: 0px 1px 3px 1px rgba(0, 0, 0, 0.15);\n",
              "    filter: drop-shadow(0px 1px 2px rgba(0, 0, 0, 0.3));\n",
              "    fill: #FFFFFF;\n",
              "  }\n",
              "</style>\n",
              "\n",
              "    <script>\n",
              "      async function quickchart(key) {\n",
              "        const containerElement = document.querySelector('#' + key);\n",
              "        const charts = await google.colab.kernel.invokeFunction(\n",
              "            'suggestCharts', [key], {});\n",
              "      }\n",
              "    </script>\n",
              "\n",
              "      <script>\n",
              "\n",
              "function displayQuickchartButton(domScope) {\n",
              "  let quickchartButtonEl =\n",
              "    domScope.querySelector('#df-0224e81b-7910-47b5-96e4-0db02ebe0236 button.colab-df-quickchart');\n",
              "  quickchartButtonEl.style.display =\n",
              "    google.colab.kernel.accessAllowed ? 'block' : 'none';\n",
              "}\n",
              "\n",
              "        displayQuickchartButton(document);\n",
              "      </script>\n",
              "      <style>\n",
              "    .colab-df-container {\n",
              "      display:flex;\n",
              "      flex-wrap:wrap;\n",
              "      gap: 12px;\n",
              "    }\n",
              "\n",
              "    .colab-df-convert {\n",
              "      background-color: #E8F0FE;\n",
              "      border: none;\n",
              "      border-radius: 50%;\n",
              "      cursor: pointer;\n",
              "      display: none;\n",
              "      fill: #1967D2;\n",
              "      height: 32px;\n",
              "      padding: 0 0 0 0;\n",
              "      width: 32px;\n",
              "    }\n",
              "\n",
              "    .colab-df-convert:hover {\n",
              "      background-color: #E2EBFA;\n",
              "      box-shadow: 0px 1px 2px rgba(60, 64, 67, 0.3), 0px 1px 3px 1px rgba(60, 64, 67, 0.15);\n",
              "      fill: #174EA6;\n",
              "    }\n",
              "\n",
              "    [theme=dark] .colab-df-convert {\n",
              "      background-color: #3B4455;\n",
              "      fill: #D2E3FC;\n",
              "    }\n",
              "\n",
              "    [theme=dark] .colab-df-convert:hover {\n",
              "      background-color: #434B5C;\n",
              "      box-shadow: 0px 1px 3px 1px rgba(0, 0, 0, 0.15);\n",
              "      filter: drop-shadow(0px 1px 2px rgba(0, 0, 0, 0.3));\n",
              "      fill: #FFFFFF;\n",
              "    }\n",
              "  </style>\n",
              "\n",
              "      <script>\n",
              "        const buttonEl =\n",
              "          document.querySelector('#df-817d7f00-d83a-433c-94a8-39f6917d50de button.colab-df-convert');\n",
              "        buttonEl.style.display =\n",
              "          google.colab.kernel.accessAllowed ? 'block' : 'none';\n",
              "\n",
              "        async function convertToInteractive(key) {\n",
              "          const element = document.querySelector('#df-817d7f00-d83a-433c-94a8-39f6917d50de');\n",
              "          const dataTable =\n",
              "            await google.colab.kernel.invokeFunction('convertToInteractive',\n",
              "                                                     [key], {});\n",
              "          if (!dataTable) return;\n",
              "\n",
              "          const docLinkHtml = 'Like what you see? Visit the ' +\n",
              "            '<a target=\"_blank\" href=https://colab.research.google.com/notebooks/data_table.ipynb>data table notebook</a>'\n",
              "            + ' to learn more about interactive tables.';\n",
              "          element.innerHTML = '';\n",
              "          dataTable['output_type'] = 'display_data';\n",
              "          await google.colab.output.renderOutput(dataTable, element);\n",
              "          const docLink = document.createElement('div');\n",
              "          docLink.innerHTML = docLinkHtml;\n",
              "          element.appendChild(docLink);\n",
              "        }\n",
              "      </script>\n",
              "    </div>\n",
              "  </div>\n"
            ]
          },
          "metadata": {},
          "execution_count": 32
        }
      ]
    },
    {
      "cell_type": "markdown",
      "source": [
        "### 第二個欄位(price)"
      ],
      "metadata": {
        "id": "p6TVYyxSNNVP"
      }
    },
    {
      "cell_type": "code",
      "source": [
        "# 使用 matplotlib 進行視覺化\n",
        "import matplotlib.pyplot as plt\n",
        "\n",
        "plt.plot(Dataset[\"price\"])\n",
        "plt.title(\"Price\", fontsize=20)\n",
        "plt.xlabel(\"Instance\", fontsize=18)\n",
        "plt.ylabel(\"Price\", fontsize=18)\n",
        "plt.xticks(fontsize=16)\n",
        "plt.yticks(fontsize=16)\n",
        "plt.show()\n",
        "\n",
        "# 觀察到 0.5 * 10^7 這個數字可能可以當作是 outlier 的臨界值"
      ],
      "metadata": {
        "id": "-kjTUR6GNUSa",
        "colab": {
          "base_uri": "https://localhost:8080/",
          "height": 496
        },
        "outputId": "f147f443-3bd9-430c-94e7-f4d66fa470ee"
      },
      "execution_count": 33,
      "outputs": [
        {
          "output_type": "display_data",
          "data": {
            "text/plain": [
              "<Figure size 640x480 with 1 Axes>"
            ],
            "image/png": "[encoded data removed]"
          },
          "metadata": {}
        }
      ]
    },
    {
      "cell_type": "code",
      "source": [
        "# 把屬於 Outlier 的資料進行標記\n",
        "Dataset[\"Outlier\"] = Dataset.apply(lambda row: True if row[\"price\"] > 0.5e7 else False, axis=1)\n",
        "print(Dataset[\"Outlier\"].value_counts())\n",
        "\n",
        "Dataset.head()"
      ],
      "metadata": {
        "id": "W3JoTZ52NUP-",
        "colab": {
          "base_uri": "https://localhost:8080/",
          "height": 478
        },
        "outputId": "2d0b3fb1-31e3-48ef-8705-baa9c7a76001"
      },
      "execution_count": 34,
      "outputs": [
        {
          "output_type": "stream",
          "name": "stdout",
          "text": [
            "False    4597\n",
            "True        3\n",
            "Name: Outlier, dtype: int64\n"
          ]
        },
        {
          "output_type": "execute_result",
          "data": {
            "text/plain": [
              "     date      price  bedrooms  bathrooms  sqft_living  sqft_lot  floors  \\\n",
              "0  Time_A   313000.0       3.0       1.50         1340      7912     1.5   \n",
              "1  Time_A  2384000.0       5.0       2.50         3650      9050     2.0   \n",
              "2  Time_A   342000.0       3.0       2.00         1930     11947     1.0   \n",
              "3  Time_A   420000.0       3.0       2.25         2000      8030     1.0   \n",
              "4  Time_A   550000.0       4.0       2.50         1940     10500     1.0   \n",
              "\n",
              "   waterfront  view  condition  sqft_above  sqft_basement  yr_built  \\\n",
              "0           0     0          3        1340              0      1955   \n",
              "1           0     4          5        3370            280      1921   \n",
              "2           0     0          4        1930              0      1966   \n",
              "3           0     0          4        1000           1000      1963   \n",
              "4           0     0          4        1140            800      1976   \n",
              "\n",
              "   yr_renovated                    street       city  statezip country  \\\n",
              "0          2005      18810 Densmore Ave N  Shoreline  WA 98133     USA   \n",
              "1             0           709 W Blaine St    Seattle  WA 98119     USA   \n",
              "2             0  26206-26214 143rd Ave SE       Kent  WA 98042     USA   \n",
              "3             0           857 170th Pl NE   Bellevue  WA 98008     USA   \n",
              "4          1992         9105 170th Ave NE    Redmond  WA 98052     USA   \n",
              "\n",
              "   Outlier  \n",
              "0    False  \n",
              "1    False  \n",
              "2    False  \n",
              "3    False  \n",
              "4    False  "
            ],
            "text/html": [
              "\n",
              "\n",
              "  <div id=\"df-008e4f8e-f335-4b6e-8c98-3778026cc0c1\">\n",
              "    <div class=\"colab-df-container\">\n",
              "      <div>\n",
              "<style scoped>\n",
              "    .dataframe tbody tr th:only-of-type {\n",
              "        vertical-align: middle;\n",
              "    }\n",
              "\n",
              "    .dataframe tbody tr th {\n",
              "        vertical-align: top;\n",
              "    }\n",
              "\n",
              "    .dataframe thead th {\n",
              "        text-align: right;\n",
              "    }\n",
              "</style>\n",
              "<table border=\"1\" class=\"dataframe\">\n",
              "  <thead>\n",
              "    <tr style=\"text-align: right;\">\n",
              "      <th></th>\n",
              "      <th>date</th>\n",
              "      <th>price</th>\n",
              "      <th>bedrooms</th>\n",
              "      <th>bathrooms</th>\n",
              "      <th>sqft_living</th>\n",
              "      <th>sqft_lot</th>\n",
              "      <th>floors</th>\n",
              "      <th>waterfront</th>\n",
              "      <th>view</th>\n",
              "      <th>condition</th>\n",
              "      <th>sqft_above</th>\n",
              "      <th>sqft_basement</th>\n",
              "      <th>yr_built</th>\n",
              "      <th>yr_renovated</th>\n",
              "      <th>street</th>\n",
              "      <th>city</th>\n",
              "      <th>statezip</th>\n",
              "      <th>country</th>\n",
              "      <th>Outlier</th>\n",
              "    </tr>\n",
              "  </thead>\n",
              "  <tbody>\n",
              "    <tr>\n",
              "      <th>0</th>\n",
              "      <td>Time_A</td>\n",
              "      <td>313000.0</td>\n",
              "      <td>3.0</td>\n",
              "      <td>1.50</td>\n",
              "      <td>1340</td>\n",
              "      <td>7912</td>\n",
              "      <td>1.5</td>\n",
              "      <td>0</td>\n",
              "      <td>0</td>\n",
              "      <td>3</td>\n",
              "      <td>1340</td>\n",
              "      <td>0</td>\n",
              "      <td>1955</td>\n",
              "      <td>2005</td>\n",
              "      <td>18810 Densmore Ave N</td>\n",
              "      <td>Shoreline</td>\n",
              "      <td>WA 98133</td>\n",
              "      <td>USA</td>\n",
              "      <td>False</td>\n",
              "    </tr>\n",
              "    <tr>\n",
              "      <th>1</th>\n",
              "      <td>Time_A</td>\n",
              "      <td>2384000.0</td>\n",
              "      <td>5.0</td>\n",
              "      <td>2.50</td>\n",
              "      <td>3650</td>\n",
              "      <td>9050</td>\n",
              "      <td>2.0</td>\n",
              "      <td>0</td>\n",
              "      <td>4</td>\n",
              "      <td>5</td>\n",
              "      <td>3370</td>\n",
              "      <td>280</td>\n",
              "      <td>1921</td>\n",
              "      <td>0</td>\n",
              "      <td>709 W Blaine St</td>\n",
              "      <td>Seattle</td>\n",
              "      <td>WA 98119</td>\n",
              "      <td>USA</td>\n",
              "      <td>False</td>\n",
              "    </tr>\n",
              "    <tr>\n",
              "      <th>2</th>\n",
              "      <td>Time_A</td>\n",
              "      <td>342000.0</td>\n",
              "      <td>3.0</td>\n",
              "      <td>2.00</td>\n",
              "      <td>1930</td>\n",
              "      <td>11947</td>\n",
              "      <td>1.0</td>\n",
              "      <td>0</td>\n",
              "      <td>0</td>\n",
              "      <td>4</td>\n",
              "      <td>1930</td>\n",
              "      <td>0</td>\n",
              "      <td>1966</td>\n",
              "      <td>0</td>\n",
              "      <td>26206-26214 143rd Ave SE</td>\n",
              "      <td>Kent</td>\n",
              "      <td>WA 98042</td>\n",
              "      <td>USA</td>\n",
              "      <td>False</td>\n",
              "    </tr>\n",
              "    <tr>\n",
              "      <th>3</th>\n",
              "      <td>Time_A</td>\n",
              "      <td>420000.0</td>\n",
              "      <td>3.0</td>\n",
              "      <td>2.25</td>\n",
              "      <td>2000</td>\n",
              "      <td>8030</td>\n",
              "      <td>1.0</td>\n",
              "      <td>0</td>\n",
              "      <td>0</td>\n",
              "      <td>4</td>\n",
              "      <td>1000</td>\n",
              "      <td>1000</td>\n",
              "      <td>1963</td>\n",
              "      <td>0</td>\n",
              "      <td>857 170th Pl NE</td>\n",
              "      <td>Bellevue</td>\n",
              "      <td>WA 98008</td>\n",
              "      <td>USA</td>\n",
              "      <td>False</td>\n",
              "    </tr>\n",
              "    <tr>\n",
              "      <th>4</th>\n",
              "      <td>Time_A</td>\n",
              "      <td>550000.0</td>\n",
              "      <td>4.0</td>\n",
              "      <td>2.50</td>\n",
              "      <td>1940</td>\n",
              "      <td>10500</td>\n",
              "      <td>1.0</td>\n",
              "      <td>0</td>\n",
              "      <td>0</td>\n",
              "      <td>4</td>\n",
              "      <td>1140</td>\n",
              "      <td>800</td>\n",
              "      <td>1976</td>\n",
              "      <td>1992</td>\n",
              "      <td>9105 170th Ave NE</td>\n",
              "      <td>Redmond</td>\n",
              "      <td>WA 98052</td>\n",
              "      <td>USA</td>\n",
              "      <td>False</td>\n",
              "    </tr>\n",
              "  </tbody>\n",
              "</table>\n",
              "</div>\n",
              "      <button class=\"colab-df-convert\" onclick=\"convertToInteractive('df-008e4f8e-f335-4b6e-8c98-3778026cc0c1')\"\n",
              "              title=\"Convert this dataframe to an interactive table.\"\n",
              "              style=\"display:none;\">\n",
              "\n",
              "  <svg xmlns=\"http://www.w3.org/2000/svg\" height=\"24px\"viewBox=\"0 0 24 24\"\n",
              "       width=\"24px\">\n",
              "    <path d=\"M0 0h24v24H0V0z\" fill=\"none\"/>\n",
              "    <path d=\"M18.56 5.44l.94 2.06.94-2.06 2.06-.94-2.06-.94-.94-2.06-.94 2.06-2.06.94zm-11 1L8.5 8.5l.94-2.06 2.06-.94-2.06-.94L8.5 2.5l-.94 2.06-2.06.94zm10 10l.94 2.06.94-2.06 2.06-.94-2.06-.94-.94-2.06-.94 2.06-2.06.94z\"/><path d=\"M17.41 7.96l-1.37-1.37c-.4-.4-.92-.59-1.43-.59-.52 0-1.04.2-1.43.59L10.3 9.45l-7.72 7.72c-.78.78-.78 2.05 0 2.83L4 21.41c.39.39.9.59 1.41.59.51 0 1.02-.2 1.41-.59l7.78-7.78 2.81-2.81c.8-.78.8-2.07 0-2.86zM5.41 20L4 18.59l7.72-7.72 1.47 1.35L5.41 20z\"/>\n",
              "  </svg>\n",
              "      </button>\n",
              "\n",
              "\n",
              "\n",
              "    <div id=\"df-013a48a3-46d1-4414-b0ed-e8a7b28551a4\">\n",
              "      <button class=\"colab-df-quickchart\" onclick=\"quickchart('df-013a48a3-46d1-4414-b0ed-e8a7b28551a4')\"\n",
              "              title=\"Suggest charts.\"\n",
              "              style=\"display:none;\">\n",
              "\n",
              "<svg xmlns=\"http://www.w3.org/2000/svg\" height=\"24px\"viewBox=\"0 0 24 24\"\n",
              "     width=\"24px\">\n",
              "    <g>\n",
              "        <path d=\"M19 3H5c-1.1 0-2 .9-2 2v14c0 1.1.9 2 2 2h14c1.1 0 2-.9 2-2V5c0-1.1-.9-2-2-2zM9 17H7v-7h2v7zm4 0h-2V7h2v10zm4 0h-2v-4h2v4z\"/>\n",
              "    </g>\n",
              "</svg>\n",
              "      </button>\n",
              "    </div>\n",
              "\n",
              "<style>\n",
              "  .colab-df-quickchart {\n",
              "    background-color: #E8F0FE;\n",
              "    border: none;\n",
              "    border-radius: 50%;\n",
              "    cursor: pointer;\n",
              "    display: none;\n",
              "    fill: #1967D2;\n",
              "    height: 32px;\n",
              "    padding: 0 0 0 0;\n",
              "    width: 32px;\n",
              "  }\n",
              "\n",
              "  .colab-df-quickchart:hover {\n",
              "    background-color: #E2EBFA;\n",
              "    box-shadow: 0px 1px 2px rgba(60, 64, 67, 0.3), 0px 1px 3px 1px rgba(60, 64, 67, 0.15);\n",
              "    fill: #174EA6;\n",
              "  }\n",
              "\n",
              "  [theme=dark] .colab-df-quickchart {\n",
              "    background-color: #3B4455;\n",
              "    fill: #D2E3FC;\n",
              "  }\n",
              "\n",
              "  [theme=dark] .colab-df-quickchart:hover {\n",
              "    background-color: #434B5C;\n",
              "    box-shadow: 0px 1px 3px 1px rgba(0, 0, 0, 0.15);\n",
              "    filter: drop-shadow(0px 1px 2px rgba(0, 0, 0, 0.3));\n",
              "    fill: #FFFFFF;\n",
              "  }\n",
              "</style>\n",
              "\n",
              "    <script>\n",
              "      async function quickchart(key) {\n",
              "        const containerElement = document.querySelector('#' + key);\n",
              "        const charts = await google.colab.kernel.invokeFunction(\n",
              "            'suggestCharts', [key], {});\n",
              "      }\n",
              "    </script>\n",
              "\n",
              "      <script>\n",
              "\n",
              "function displayQuickchartButton(domScope) {\n",
              "  let quickchartButtonEl =\n",
              "    domScope.querySelector('#df-013a48a3-46d1-4414-b0ed-e8a7b28551a4 button.colab-df-quickchart');\n",
              "  quickchartButtonEl.style.display =\n",
              "    google.colab.kernel.accessAllowed ? 'block' : 'none';\n",
              "}\n",
              "\n",
              "        displayQuickchartButton(document);\n",
              "      </script>\n",
              "      <style>\n",
              "    .colab-df-container {\n",
              "      display:flex;\n",
              "      flex-wrap:wrap;\n",
              "      gap: 12px;\n",
              "    }\n",
              "\n",
              "    .colab-df-convert {\n",
              "      background-color: #E8F0FE;\n",
              "      border: none;\n",
              "      border-radius: 50%;\n",
              "      cursor: pointer;\n",
              "      display: none;\n",
              "      fill: #1967D2;\n",
              "      height: 32px;\n",
              "      padding: 0 0 0 0;\n",
              "      width: 32px;\n",
              "    }\n",
              "\n",
              "    .colab-df-convert:hover {\n",
              "      background-color: #E2EBFA;\n",
              "      box-shadow: 0px 1px 2px rgba(60, 64, 67, 0.3), 0px 1px 3px 1px rgba(60, 64, 67, 0.15);\n",
              "      fill: #174EA6;\n",
              "    }\n",
              "\n",
              "    [theme=dark] .colab-df-convert {\n",
              "      background-color: #3B4455;\n",
              "      fill: #D2E3FC;\n",
              "    }\n",
              "\n",
              "    [theme=dark] .colab-df-convert:hover {\n",
              "      background-color: #434B5C;\n",
              "      box-shadow: 0px 1px 3px 1px rgba(0, 0, 0, 0.15);\n",
              "      filter: drop-shadow(0px 1px 2px rgba(0, 0, 0, 0.3));\n",
              "      fill: #FFFFFF;\n",
              "    }\n",
              "  </style>\n",
              "\n",
              "      <script>\n",
              "        const buttonEl =\n",
              "          document.querySelector('#df-008e4f8e-f335-4b6e-8c98-3778026cc0c1 button.colab-df-convert');\n",
              "        buttonEl.style.display =\n",
              "          google.colab.kernel.accessAllowed ? 'block' : 'none';\n",
              "\n",
              "        async function convertToInteractive(key) {\n",
              "          const element = document.querySelector('#df-008e4f8e-f335-4b6e-8c98-3778026cc0c1');\n",
              "          const dataTable =\n",
              "            await google.colab.kernel.invokeFunction('convertToInteractive',\n",
              "                                                     [key], {});\n",
              "          if (!dataTable) return;\n",
              "\n",
              "          const docLinkHtml = 'Like what you see? Visit the ' +\n",
              "            '<a target=\"_blank\" href=https://colab.research.google.com/notebooks/data_table.ipynb>data table notebook</a>'\n",
              "            + ' to learn more about interactive tables.';\n",
              "          element.innerHTML = '';\n",
              "          dataTable['output_type'] = 'display_data';\n",
              "          await google.colab.output.renderOutput(dataTable, element);\n",
              "          const docLink = document.createElement('div');\n",
              "          docLink.innerHTML = docLinkHtml;\n",
              "          element.appendChild(docLink);\n",
              "        }\n",
              "      </script>\n",
              "    </div>\n",
              "  </div>\n"
            ]
          },
          "metadata": {},
          "execution_count": 34
        }
      ]
    },
    {
      "cell_type": "code",
      "source": [
        "# 檢查是否有 price 等於 0 的情況\n",
        "(Dataset[\"price\"] == 0).sum()\n",
        "\n",
        "# 按理判斷，房價不該為 0，因此也把此情況標記為 Outlier\n",
        "Dataset[\"Outlier\"] = Dataset.apply(lambda row: True if row[\"price\"] == 0 else row[\"Outlier\"], axis=1)\n",
        "print(Dataset[\"Outlier\"].value_counts())"
      ],
      "metadata": {
        "id": "XmRnAo-WWCR_",
        "colab": {
          "base_uri": "https://localhost:8080/"
        },
        "outputId": "56e364ac-07be-4e4e-dd5f-5b536e4c4b1b"
      },
      "execution_count": 35,
      "outputs": [
        {
          "output_type": "stream",
          "name": "stdout",
          "text": [
            "False    4548\n",
            "True       52\n",
            "Name: Outlier, dtype: int64\n"
          ]
        }
      ]
    },
    {
      "cell_type": "code",
      "source": [
        "# 把屬於 Outlier 的資料 drop 掉\n",
        "Undropped_Data = (Dataset[\"Outlier\"] == False)\n",
        "Dataset = Dataset[Undropped_Data]\n",
        "Dataset.head()"
      ],
      "metadata": {
        "id": "IgKu6mUuNUNg",
        "colab": {
          "base_uri": "https://localhost:8080/",
          "height": 426
        },
        "outputId": "bfee1c4c-e45a-4f8d-8ac3-3374af291620"
      },
      "execution_count": 36,
      "outputs": [
        {
          "output_type": "execute_result",
          "data": {
            "text/plain": [
              "     date      price  bedrooms  bathrooms  sqft_living  sqft_lot  floors  \\\n",
              "0  Time_A   313000.0       3.0       1.50         1340      7912     1.5   \n",
              "1  Time_A  2384000.0       5.0       2.50         3650      9050     2.0   \n",
              "2  Time_A   342000.0       3.0       2.00         1930     11947     1.0   \n",
              "3  Time_A   420000.0       3.0       2.25         2000      8030     1.0   \n",
              "4  Time_A   550000.0       4.0       2.50         1940     10500     1.0   \n",
              "\n",
              "   waterfront  view  condition  sqft_above  sqft_basement  yr_built  \\\n",
              "0           0     0          3        1340              0      1955   \n",
              "1           0     4          5        3370            280      1921   \n",
              "2           0     0          4        1930              0      1966   \n",
              "3           0     0          4        1000           1000      1963   \n",
              "4           0     0          4        1140            800      1976   \n",
              "\n",
              "   yr_renovated                    street       city  statezip country  \\\n",
              "0          2005      18810 Densmore Ave N  Shoreline  WA 98133     USA   \n",
              "1             0           709 W Blaine St    Seattle  WA 98119     USA   \n",
              "2             0  26206-26214 143rd Ave SE       Kent  WA 98042     USA   \n",
              "3             0           857 170th Pl NE   Bellevue  WA 98008     USA   \n",
              "4          1992         9105 170th Ave NE    Redmond  WA 98052     USA   \n",
              "\n",
              "   Outlier  \n",
              "0    False  \n",
              "1    False  \n",
              "2    False  \n",
              "3    False  \n",
              "4    False  "
            ],
            "text/html": [
              "\n",
              "\n",
              "  <div id=\"df-963ed859-7222-4f9f-afe5-27340400ff79\">\n",
              "    <div class=\"colab-df-container\">\n",
              "      <div>\n",
              "<style scoped>\n",
              "    .dataframe tbody tr th:only-of-type {\n",
              "        vertical-align: middle;\n",
              "    }\n",
              "\n",
              "    .dataframe tbody tr th {\n",
              "        vertical-align: top;\n",
              "    }\n",
              "\n",
              "    .dataframe thead th {\n",
              "        text-align: right;\n",
              "    }\n",
              "</style>\n",
              "<table border=\"1\" class=\"dataframe\">\n",
              "  <thead>\n",
              "    <tr style=\"text-align: right;\">\n",
              "      <th></th>\n",
              "      <th>date</th>\n",
              "      <th>price</th>\n",
              "      <th>bedrooms</th>\n",
              "      <th>bathrooms</th>\n",
              "      <th>sqft_living</th>\n",
              "      <th>sqft_lot</th>\n",
              "      <th>floors</th>\n",
              "      <th>waterfront</th>\n",
              "      <th>view</th>\n",
              "      <th>condition</th>\n",
              "      <th>sqft_above</th>\n",
              "      <th>sqft_basement</th>\n",
              "      <th>yr_built</th>\n",
              "      <th>yr_renovated</th>\n",
              "      <th>street</th>\n",
              "      <th>city</th>\n",
              "      <th>statezip</th>\n",
              "      <th>country</th>\n",
              "      <th>Outlier</th>\n",
              "    </tr>\n",
              "  </thead>\n",
              "  <tbody>\n",
              "    <tr>\n",
              "      <th>0</th>\n",
              "      <td>Time_A</td>\n",
              "      <td>313000.0</td>\n",
              "      <td>3.0</td>\n",
              "      <td>1.50</td>\n",
              "      <td>1340</td>\n",
              "      <td>7912</td>\n",
              "      <td>1.5</td>\n",
              "      <td>0</td>\n",
              "      <td>0</td>\n",
              "      <td>3</td>\n",
              "      <td>1340</td>\n",
              "      <td>0</td>\n",
              "      <td>1955</td>\n",
              "      <td>2005</td>\n",
              "      <td>18810 Densmore Ave N</td>\n",
              "      <td>Shoreline</td>\n",
              "      <td>WA 98133</td>\n",
              "      <td>USA</td>\n",
              "      <td>False</td>\n",
              "    </tr>\n",
              "    <tr>\n",
              "      <th>1</th>\n",
              "      <td>Time_A</td>\n",
              "      <td>2384000.0</td>\n",
              "      <td>5.0</td>\n",
              "      <td>2.50</td>\n",
              "      <td>3650</td>\n",
              "      <td>9050</td>\n",
              "      <td>2.0</td>\n",
              "      <td>0</td>\n",
              "      <td>4</td>\n",
              "      <td>5</td>\n",
              "      <td>3370</td>\n",
              "      <td>280</td>\n",
              "      <td>1921</td>\n",
              "      <td>0</td>\n",
              "      <td>709 W Blaine St</td>\n",
              "      <td>Seattle</td>\n",
              "      <td>WA 98119</td>\n",
              "      <td>USA</td>\n",
              "      <td>False</td>\n",
              "    </tr>\n",
              "    <tr>\n",
              "      <th>2</th>\n",
              "      <td>Time_A</td>\n",
              "      <td>342000.0</td>\n",
              "      <td>3.0</td>\n",
              "      <td>2.00</td>\n",
              "      <td>1930</td>\n",
              "      <td>11947</td>\n",
              "      <td>1.0</td>\n",
              "      <td>0</td>\n",
              "      <td>0</td>\n",
              "      <td>4</td>\n",
              "      <td>1930</td>\n",
              "      <td>0</td>\n",
              "      <td>1966</td>\n",
              "      <td>0</td>\n",
              "      <td>26206-26214 143rd Ave SE</td>\n",
              "      <td>Kent</td>\n",
              "      <td>WA 98042</td>\n",
              "      <td>USA</td>\n",
              "      <td>False</td>\n",
              "    </tr>\n",
              "    <tr>\n",
              "      <th>3</th>\n",
              "      <td>Time_A</td>\n",
              "      <td>420000.0</td>\n",
              "      <td>3.0</td>\n",
              "      <td>2.25</td>\n",
              "      <td>2000</td>\n",
              "      <td>8030</td>\n",
              "      <td>1.0</td>\n",
              "      <td>0</td>\n",
              "      <td>0</td>\n",
              "      <td>4</td>\n",
              "      <td>1000</td>\n",
              "      <td>1000</td>\n",
              "      <td>1963</td>\n",
              "      <td>0</td>\n",
              "      <td>857 170th Pl NE</td>\n",
              "      <td>Bellevue</td>\n",
              "      <td>WA 98008</td>\n",
              "      <td>USA</td>\n",
              "      <td>False</td>\n",
              "    </tr>\n",
              "    <tr>\n",
              "      <th>4</th>\n",
              "      <td>Time_A</td>\n",
              "      <td>550000.0</td>\n",
              "      <td>4.0</td>\n",
              "      <td>2.50</td>\n",
              "      <td>1940</td>\n",
              "      <td>10500</td>\n",
              "      <td>1.0</td>\n",
              "      <td>0</td>\n",
              "      <td>0</td>\n",
              "      <td>4</td>\n",
              "      <td>1140</td>\n",
              "      <td>800</td>\n",
              "      <td>1976</td>\n",
              "      <td>1992</td>\n",
              "      <td>9105 170th Ave NE</td>\n",
              "      <td>Redmond</td>\n",
              "      <td>WA 98052</td>\n",
              "      <td>USA</td>\n",
              "      <td>False</td>\n",
              "    </tr>\n",
              "  </tbody>\n",
              "</table>\n",
              "</div>\n",
              "      <button class=\"colab-df-convert\" onclick=\"convertToInteractive('df-963ed859-7222-4f9f-afe5-27340400ff79')\"\n",
              "              title=\"Convert this dataframe to an interactive table.\"\n",
              "              style=\"display:none;\">\n",
              "\n",
              "  <svg xmlns=\"http://www.w3.org/2000/svg\" height=\"24px\"viewBox=\"0 0 24 24\"\n",
              "       width=\"24px\">\n",
              "    <path d=\"M0 0h24v24H0V0z\" fill=\"none\"/>\n",
              "    <path d=\"M18.56 5.44l.94 2.06.94-2.06 2.06-.94-2.06-.94-.94-2.06-.94 2.06-2.06.94zm-11 1L8.5 8.5l.94-2.06 2.06-.94-2.06-.94L8.5 2.5l-.94 2.06-2.06.94zm10 10l.94 2.06.94-2.06 2.06-.94-2.06-.94-.94-2.06-.94 2.06-2.06.94z\"/><path d=\"M17.41 7.96l-1.37-1.37c-.4-.4-.92-.59-1.43-.59-.52 0-1.04.2-1.43.59L10.3 9.45l-7.72 7.72c-.78.78-.78 2.05 0 2.83L4 21.41c.39.39.9.59 1.41.59.51 0 1.02-.2 1.41-.59l7.78-7.78 2.81-2.81c.8-.78.8-2.07 0-2.86zM5.41 20L4 18.59l7.72-7.72 1.47 1.35L5.41 20z\"/>\n",
              "  </svg>\n",
              "      </button>\n",
              "\n",
              "\n",
              "\n",
              "    <div id=\"df-79077db1-d1ed-44c4-a87a-fc0dc0b5e89f\">\n",
              "      <button class=\"colab-df-quickchart\" onclick=\"quickchart('df-79077db1-d1ed-44c4-a87a-fc0dc0b5e89f')\"\n",
              "              title=\"Suggest charts.\"\n",
              "              style=\"display:none;\">\n",
              "\n",
              "<svg xmlns=\"http://www.w3.org/2000/svg\" height=\"24px\"viewBox=\"0 0 24 24\"\n",
              "     width=\"24px\">\n",
              "    <g>\n",
              "        <path d=\"M19 3H5c-1.1 0-2 .9-2 2v14c0 1.1.9 2 2 2h14c1.1 0 2-.9 2-2V5c0-1.1-.9-2-2-2zM9 17H7v-7h2v7zm4 0h-2V7h2v10zm4 0h-2v-4h2v4z\"/>\n",
              "    </g>\n",
              "</svg>\n",
              "      </button>\n",
              "    </div>\n",
              "\n",
              "<style>\n",
              "  .colab-df-quickchart {\n",
              "    background-color: #E8F0FE;\n",
              "    border: none;\n",
              "    border-radius: 50%;\n",
              "    cursor: pointer;\n",
              "    display: none;\n",
              "    fill: #1967D2;\n",
              "    height: 32px;\n",
              "    padding: 0 0 0 0;\n",
              "    width: 32px;\n",
              "  }\n",
              "\n",
              "  .colab-df-quickchart:hover {\n",
              "    background-color: #E2EBFA;\n",
              "    box-shadow: 0px 1px 2px rgba(60, 64, 67, 0.3), 0px 1px 3px 1px rgba(60, 64, 67, 0.15);\n",
              "    fill: #174EA6;\n",
              "  }\n",
              "\n",
              "  [theme=dark] .colab-df-quickchart {\n",
              "    background-color: #3B4455;\n",
              "    fill: #D2E3FC;\n",
              "  }\n",
              "\n",
              "  [theme=dark] .colab-df-quickchart:hover {\n",
              "    background-color: #434B5C;\n",
              "    box-shadow: 0px 1px 3px 1px rgba(0, 0, 0, 0.15);\n",
              "    filter: drop-shadow(0px 1px 2px rgba(0, 0, 0, 0.3));\n",
              "    fill: #FFFFFF;\n",
              "  }\n",
              "</style>\n",
              "\n",
              "    <script>\n",
              "      async function quickchart(key) {\n",
              "        const containerElement = document.querySelector('#' + key);\n",
              "        const charts = await google.colab.kernel.invokeFunction(\n",
              "            'suggestCharts', [key], {});\n",
              "      }\n",
              "    </script>\n",
              "\n",
              "      <script>\n",
              "\n",
              "function displayQuickchartButton(domScope) {\n",
              "  let quickchartButtonEl =\n",
              "    domScope.querySelector('#df-79077db1-d1ed-44c4-a87a-fc0dc0b5e89f button.colab-df-quickchart');\n",
              "  quickchartButtonEl.style.display =\n",
              "    google.colab.kernel.accessAllowed ? 'block' : 'none';\n",
              "}\n",
              "\n",
              "        displayQuickchartButton(document);\n",
              "      </script>\n",
              "      <style>\n",
              "    .colab-df-container {\n",
              "      display:flex;\n",
              "      flex-wrap:wrap;\n",
              "      gap: 12px;\n",
              "    }\n",
              "\n",
              "    .colab-df-convert {\n",
              "      background-color: #E8F0FE;\n",
              "      border: none;\n",
              "      border-radius: 50%;\n",
              "      cursor: pointer;\n",
              "      display: none;\n",
              "      fill: #1967D2;\n",
              "      height: 32px;\n",
              "      padding: 0 0 0 0;\n",
              "      width: 32px;\n",
              "    }\n",
              "\n",
              "    .colab-df-convert:hover {\n",
              "      background-color: #E2EBFA;\n",
              "      box-shadow: 0px 1px 2px rgba(60, 64, 67, 0.3), 0px 1px 3px 1px rgba(60, 64, 67, 0.15);\n",
              "      fill: #174EA6;\n",
              "    }\n",
              "\n",
              "    [theme=dark] .colab-df-convert {\n",
              "      background-color: #3B4455;\n",
              "      fill: #D2E3FC;\n",
              "    }\n",
              "\n",
              "    [theme=dark] .colab-df-convert:hover {\n",
              "      background-color: #434B5C;\n",
              "      box-shadow: 0px 1px 3px 1px rgba(0, 0, 0, 0.15);\n",
              "      filter: drop-shadow(0px 1px 2px rgba(0, 0, 0, 0.3));\n",
              "      fill: #FFFFFF;\n",
              "    }\n",
              "  </style>\n",
              "\n",
              "      <script>\n",
              "        const buttonEl =\n",
              "          document.querySelector('#df-963ed859-7222-4f9f-afe5-27340400ff79 button.colab-df-convert');\n",
              "        buttonEl.style.display =\n",
              "          google.colab.kernel.accessAllowed ? 'block' : 'none';\n",
              "\n",
              "        async function convertToInteractive(key) {\n",
              "          const element = document.querySelector('#df-963ed859-7222-4f9f-afe5-27340400ff79');\n",
              "          const dataTable =\n",
              "            await google.colab.kernel.invokeFunction('convertToInteractive',\n",
              "                                                     [key], {});\n",
              "          if (!dataTable) return;\n",
              "\n",
              "          const docLinkHtml = 'Like what you see? Visit the ' +\n",
              "            '<a target=\"_blank\" href=https://colab.research.google.com/notebooks/data_table.ipynb>data table notebook</a>'\n",
              "            + ' to learn more about interactive tables.';\n",
              "          element.innerHTML = '';\n",
              "          dataTable['output_type'] = 'display_data';\n",
              "          await google.colab.output.renderOutput(dataTable, element);\n",
              "          const docLink = document.createElement('div');\n",
              "          docLink.innerHTML = docLinkHtml;\n",
              "          element.appendChild(docLink);\n",
              "        }\n",
              "      </script>\n",
              "    </div>\n",
              "  </div>\n"
            ]
          },
          "metadata": {},
          "execution_count": 36
        }
      ]
    },
    {
      "cell_type": "markdown",
      "source": [
        "### 第三個欄位(bedrooms)"
      ],
      "metadata": {
        "id": "Qycg5ev8Pl7P"
      }
    },
    {
      "cell_type": "code",
      "source": [
        "import matplotlib.pyplot as plt\n",
        "\n",
        "plt.plot(Dataset[\"bedrooms\"], \"o\")\n",
        "plt.title(\"bedrooms\", fontsize=20)\n",
        "plt.xlabel(\"instance\", fontsize=18)\n",
        "plt.ylabel(\"number of bedrooms\", fontsize=18)\n",
        "plt.xticks(fontsize=16)\n",
        "plt.yticks(fontsize=16)\n",
        "plt.show()"
      ],
      "metadata": {
        "id": "AHHLmA0uPp_7",
        "colab": {
          "base_uri": "https://localhost:8080/",
          "height": 496
        },
        "outputId": "25a7dace-9c37-467b-bef4-218fac319895"
      },
      "execution_count": 37,
      "outputs": [
        {
          "output_type": "display_data",
          "data": {
            "text/plain": [
              "<Figure size 640x480 with 1 Axes>"
            ],
            "image/png": "[encoded data removed]"
          },
          "metadata": {}
        }
      ]
    },
    {
      "cell_type": "markdown",
      "source": [
        "### 第四個欄位(bathrooms)"
      ],
      "metadata": {
        "id": "PA08Chgxq8qx"
      }
    },
    {
      "cell_type": "code",
      "source": [
        "import matplotlib.pyplot as plt\n",
        "\n",
        "plt.plot(Dataset[\"bathrooms\"], \"o\")\n",
        "plt.title(\"bathrooms\", fontsize=20)\n",
        "plt.xlabel(\"instance\", fontsize=18)\n",
        "plt.ylabel(\"number of bathrooms\", fontsize=18)\n",
        "plt.xticks(fontsize=16)\n",
        "plt.yticks(fontsize=16)\n",
        "plt.show()"
      ],
      "metadata": {
        "id": "UpRqsdzrrBdD",
        "colab": {
          "base_uri": "https://localhost:8080/",
          "height": 496
        },
        "outputId": "d35ce04e-8355-4c52-ae3d-20158b16be59"
      },
      "execution_count": 38,
      "outputs": [
        {
          "output_type": "display_data",
          "data": {
            "text/plain": [
              "<Figure size 640x480 with 1 Axes>"
            ],
            "image/png": "[encoded data removed]"
          },
          "metadata": {}
        }
      ]
    },
    {
      "cell_type": "markdown",
      "source": [
        "### 第五個欄位(sqft_living)"
      ],
      "metadata": {
        "id": "7sZxQFoeP1-e"
      }
    },
    {
      "cell_type": "code",
      "source": [
        "import matplotlib.pyplot as plt\n",
        "\n",
        "plt.hist(Dataset[\"sqft_living\"])\n",
        "plt.title(\"sqft_living\", fontsize=20)\n",
        "plt.xlabel(\"size\", fontsize=18)\n",
        "plt.ylabel(\"frequency\", fontsize=18)\n",
        "plt.xticks(fontsize=16)\n",
        "plt.yticks(fontsize=16)\n",
        "plt.show()"
      ],
      "metadata": {
        "id": "jJd0183iQTas",
        "colab": {
          "base_uri": "https://localhost:8080/",
          "height": 496
        },
        "outputId": "e8fc6bc2-a848-45f5-f587-424b9b4ede6b"
      },
      "execution_count": 39,
      "outputs": [
        {
          "output_type": "display_data",
          "data": {
            "text/plain": [
              "<Figure size 640x480 with 1 Axes>"
            ],
            "image/png": "[encoded data removed]"
          },
          "metadata": {}
        }
      ]
    },
    {
      "cell_type": "markdown",
      "source": [
        "### 第六個欄位(sqft_lot)"
      ],
      "metadata": {
        "id": "fmmXPR-gQZ0V"
      }
    },
    {
      "cell_type": "code",
      "source": [
        "import matplotlib.pyplot as plt\n",
        "\n",
        "plt.plot(Dataset[\"sqft_lot\"], \"o\")\n",
        "#plt.hist(Dataset[\"sqft_lot\"],)\n",
        "plt.title(\"sqft_lot\", fontsize=20)\n",
        "plt.xlabel(\"instance\", fontsize=18)\n",
        "plt.ylabel(\"sqft_lot\", fontsize=18)\n",
        "plt.xticks(fontsize=16)\n",
        "plt.yticks(fontsize=16)\n",
        "plt.show()"
      ],
      "metadata": {
        "id": "b9_Qe2arQftk",
        "colab": {
          "base_uri": "https://localhost:8080/",
          "height": 496
        },
        "outputId": "4ba958b5-fbc6-4e27-a102-cdc4078b2eea"
      },
      "execution_count": 40,
      "outputs": [
        {
          "output_type": "display_data",
          "data": {
            "text/plain": [
              "<Figure size 640x480 with 1 Axes>"
            ],
            "image/png": "[encoded data removed]"
          },
          "metadata": {}
        }
      ]
    },
    {
      "cell_type": "markdown",
      "source": [
        "### 第七個欄位(floors)"
      ],
      "metadata": {
        "id": "nMG1H7IzQl2m"
      }
    },
    {
      "cell_type": "code",
      "source": [
        "import matplotlib.pyplot as plt\n",
        "\n",
        "plt.plot(Dataset[\"floors\"], \"o\")\n",
        "plt.title(\"floors\", fontsize=20)\n",
        "plt.xlabel(\"instance\", fontsize=18)\n",
        "plt.ylabel(\"number of floors\", fontsize=18)\n",
        "plt.xticks(fontsize=16)\n",
        "plt.yticks(fontsize=16)\n",
        "plt.show()"
      ],
      "metadata": {
        "id": "7o6cT-KIQq7G",
        "colab": {
          "base_uri": "https://localhost:8080/",
          "height": 496
        },
        "outputId": "4e5d159e-225f-45d2-8860-de7dee481887"
      },
      "execution_count": 41,
      "outputs": [
        {
          "output_type": "display_data",
          "data": {
            "text/plain": [
              "<Figure size 640x480 with 1 Axes>"
            ],
            "image/png": "[encoded data removed]"
          },
          "metadata": {}
        }
      ]
    },
    {
      "cell_type": "markdown",
      "source": [
        "### 第八個欄位(waterfront)"
      ],
      "metadata": {
        "id": "JJ6aKuMmP8YZ"
      }
    },
    {
      "cell_type": "code",
      "source": [
        "Dataset[\"waterfront\"].value_counts()"
      ],
      "metadata": {
        "id": "BhZPPSodQ2lC",
        "colab": {
          "base_uri": "https://localhost:8080/"
        },
        "outputId": "49bfe308-8504-40b3-92e5-63299c865a13"
      },
      "execution_count": 42,
      "outputs": [
        {
          "output_type": "execute_result",
          "data": {
            "text/plain": [
              "0    4519\n",
              "1      29\n",
              "Name: waterfront, dtype: int64"
            ]
          },
          "metadata": {},
          "execution_count": 42
        }
      ]
    },
    {
      "cell_type": "markdown",
      "source": [
        "### 第九個欄位(view)"
      ],
      "metadata": {
        "id": "OPL6oUa5Q5-L"
      }
    },
    {
      "cell_type": "code",
      "source": [
        "import matplotlib.pyplot as plt\n",
        "\n",
        "plt.plot(Dataset[\"view\"], \"o\")\n",
        "plt.title(\"view\", fontsize=20)\n",
        "plt.xlabel(\"instance\", fontsize=18)\n",
        "plt.ylabel(\"number of views\", fontsize=18)\n",
        "plt.xticks(fontsize=16)\n",
        "plt.yticks(fontsize=16)\n",
        "plt.show()"
      ],
      "metadata": {
        "id": "kcO77Uf4RAwO",
        "colab": {
          "base_uri": "https://localhost:8080/",
          "height": 496
        },
        "outputId": "5eb01af7-4351-4a24-831c-607a09cbed39"
      },
      "execution_count": 43,
      "outputs": [
        {
          "output_type": "display_data",
          "data": {
            "text/plain": [
              "<Figure size 640x480 with 1 Axes>"
            ],
            "image/png": "[encoded data removed]"
          },
          "metadata": {}
        }
      ]
    },
    {
      "cell_type": "markdown",
      "source": [
        "### 第十個欄位(condition)"
      ],
      "metadata": {
        "id": "TTNGjoeMRJLt"
      }
    },
    {
      "cell_type": "code",
      "source": [
        "import matplotlib.pyplot as plt\n",
        "\n",
        "plt.plot(Dataset[\"condition\"], \"o\")\n",
        "plt.title(\"condition\", fontsize=20)\n",
        "plt.xlabel(\"instance\", fontsize=18)\n",
        "plt.ylabel(\"condition\", fontsize=18)\n",
        "plt.xticks(fontsize=16)\n",
        "plt.yticks(fontsize=16)\n",
        "plt.show()"
      ],
      "metadata": {
        "id": "jD1kDGs4RQOU",
        "colab": {
          "base_uri": "https://localhost:8080/",
          "height": 496
        },
        "outputId": "33181364-161a-4e94-f504-7cb55fe38122"
      },
      "execution_count": 44,
      "outputs": [
        {
          "output_type": "display_data",
          "data": {
            "text/plain": [
              "<Figure size 640x480 with 1 Axes>"
            ],
            "image/png": "[encoded data removed]"
          },
          "metadata": {}
        }
      ]
    },
    {
      "cell_type": "markdown",
      "source": [
        "### 第十一個欄位(sqft_above)"
      ],
      "metadata": {
        "id": "F4Iu8K07RWy2"
      }
    },
    {
      "cell_type": "code",
      "source": [
        "import matplotlib.pyplot as plt\n",
        "\n",
        "#plt.plot(Dataset[\"sqft_above\"], \"o\")\n",
        "plt.hist(Dataset[\"sqft_above\"])\n",
        "plt.title(\"sqft_above\", fontsize=20)\n",
        "plt.xlabel(\"size\", fontsize=18)\n",
        "plt.ylabel(\"frequency\", fontsize=18)\n",
        "plt.xticks(fontsize=16)\n",
        "plt.yticks(fontsize=16)\n",
        "plt.show()"
      ],
      "metadata": {
        "id": "VjQwXTXyReNl",
        "colab": {
          "base_uri": "https://localhost:8080/",
          "height": 496
        },
        "outputId": "8fd67f35-bd62-4d19-ccf2-244fe598d94a"
      },
      "execution_count": 45,
      "outputs": [
        {
          "output_type": "display_data",
          "data": {
            "text/plain": [
              "<Figure size 640x480 with 1 Axes>"
            ],
            "image/png": "[encoded data removed]"
          },
          "metadata": {}
        }
      ]
    },
    {
      "cell_type": "markdown",
      "source": [
        "### 第十二個欄位(sqft_basement)"
      ],
      "metadata": {
        "id": "XUZciA5ySIKv"
      }
    },
    {
      "cell_type": "code",
      "source": [
        "import matplotlib.pyplot as plt\n",
        "\n",
        "plt.hist(Dataset[\"sqft_basement\"])\n",
        "plt.title(\"sqft_basement\", fontsize=20)\n",
        "plt.xlabel(\"size\", fontsize=18)\n",
        "plt.ylabel(\"frequency\", fontsize=18)\n",
        "plt.xticks(fontsize=16)\n",
        "plt.yticks(fontsize=16)\n",
        "plt.show()"
      ],
      "metadata": {
        "id": "gbMu7_S-SK7C",
        "colab": {
          "base_uri": "https://localhost:8080/",
          "height": 496
        },
        "outputId": "94fde112-cd46-4deb-b8a6-f5aed2bc430e"
      },
      "execution_count": 46,
      "outputs": [
        {
          "output_type": "display_data",
          "data": {
            "text/plain": [
              "<Figure size 640x480 with 1 Axes>"
            ],
            "image/png": "[encoded data removed]"
          },
          "metadata": {}
        }
      ]
    },
    {
      "cell_type": "markdown",
      "source": [
        "### 第十三個欄位(yr_built)"
      ],
      "metadata": {
        "id": "UfsP4PyhSh3N"
      }
    },
    {
      "cell_type": "code",
      "source": [
        "import matplotlib.pyplot as plt\n",
        "\n",
        "plt.hist(Dataset[\"yr_built\"])\n",
        "plt.title(\"yr_built\", fontsize=20)\n",
        "plt.xlabel(\"year\", fontsize=18)\n",
        "plt.ylabel(\"frequency\", fontsize=18)\n",
        "plt.xticks(fontsize=16)\n",
        "plt.yticks(fontsize=16)\n",
        "plt.show()"
      ],
      "metadata": {
        "id": "ah_r2l3QSsrb",
        "colab": {
          "base_uri": "https://localhost:8080/",
          "height": 496
        },
        "outputId": "b5a66bc5-b977-4f01-c2f4-ac168d2fac0f"
      },
      "execution_count": 47,
      "outputs": [
        {
          "output_type": "display_data",
          "data": {
            "text/plain": [
              "<Figure size 640x480 with 1 Axes>"
            ],
            "image/png": "[encoded data removed]"
          },
          "metadata": {}
        }
      ]
    },
    {
      "cell_type": "markdown",
      "source": [
        "### 第十四個欄位(yr_renovated)"
      ],
      "metadata": {
        "id": "v_1VECoNSsPb"
      }
    },
    {
      "cell_type": "code",
      "source": [
        "import matplotlib.pyplot as plt\n",
        "\n",
        "plt.hist(Dataset[\"yr_renovated\"])\n",
        "plt.title(\"yr_renovated\", fontsize=20)\n",
        "plt.xlabel(\"year\", fontsize=18)\n",
        "plt.ylabel(\"frequency\", fontsize=18)\n",
        "plt.xticks(fontsize=16)\n",
        "plt.yticks(fontsize=16)\n",
        "plt.show()\n",
        "\n",
        "# 釐清為何左側靠近0處有資料\n",
        "print(Dataset[\"yr_renovated\"].value_counts())"
      ],
      "metadata": {
        "id": "EURnLsFRTLck",
        "colab": {
          "base_uri": "https://localhost:8080/",
          "height": 1000
        },
        "outputId": "861a2424-54e0-427b-f781-989005d43967"
      },
      "execution_count": 48,
      "outputs": [
        {
          "output_type": "display_data",
          "data": {
            "text/plain": [
              "<Figure size 640x480 with 1 Axes>"
            ],
            "image/png": "[encoded data removed]"
          },
          "metadata": {}
        },
        {
          "output_type": "stream",
          "name": "stdout",
          "text": [
            "0       2705\n",
            "2000     169\n",
            "2003     150\n",
            "2009     107\n",
            "2001     104\n",
            "2005      94\n",
            "2004      77\n",
            "2014      72\n",
            "2006      66\n",
            "2013      61\n",
            "1994      57\n",
            "1923      55\n",
            "1989      55\n",
            "2011      54\n",
            "2008      45\n",
            "2012      45\n",
            "1988      43\n",
            "1983      40\n",
            "2002      40\n",
            "1998      39\n",
            "1993      39\n",
            "1999      39\n",
            "1912      33\n",
            "1979      32\n",
            "1992      32\n",
            "2010      30\n",
            "1985      29\n",
            "1997      28\n",
            "1982      22\n",
            "1996      21\n",
            "1972      17\n",
            "1990      16\n",
            "1956      15\n",
            "1963      12\n",
            "1969      11\n",
            "1984       9\n",
            "1968       9\n",
            "1970       9\n",
            "1954       8\n",
            "1945       7\n",
            "2007       7\n",
            "1974       6\n",
            "1934       6\n",
            "1986       5\n",
            "1958       5\n",
            "1971       5\n",
            "1978       3\n",
            "1995       2\n",
            "1955       2\n",
            "1980       2\n",
            "1913       1\n",
            "1991       1\n",
            "1948       1\n",
            "1953       1\n",
            "1960       1\n",
            "1987       1\n",
            "1966       1\n",
            "1981       1\n",
            "1977       1\n",
            "Name: yr_renovated, dtype: int64\n"
          ]
        }
      ]
    },
    {
      "cell_type": "code",
      "source": [
        "# 發現有一些 yr_renovated 是 0 表示他們都沒有翻新過，然而他們至少應該要是 yr_built\n",
        "Dataset[\"yr_renovated\"] = Dataset.apply(lambda row: row[\"yr_built\"] if row[\"yr_renovated\"] == 0 else row[\"yr_renovated\"], axis=1)\n",
        "\n",
        "import matplotlib.pyplot as plt\n",
        "\n",
        "plt.hist(Dataset[\"yr_renovated\"])\n",
        "plt.title(\"yr_renovated\", fontsize=20)\n",
        "plt.xlabel(\"year\", fontsize=18)\n",
        "plt.ylabel(\"frequency\", fontsize=18)\n",
        "plt.xticks(fontsize=16)\n",
        "plt.yticks(fontsize=16)\n",
        "plt.show()"
      ],
      "metadata": {
        "id": "D2j6-0kRMx4T",
        "colab": {
          "base_uri": "https://localhost:8080/",
          "height": 496
        },
        "outputId": "d1c65409-38eb-4098-d30b-22157b0deff5"
      },
      "execution_count": 49,
      "outputs": [
        {
          "output_type": "display_data",
          "data": {
            "text/plain": [
              "<Figure size 640x480 with 1 Axes>"
            ],
            "image/png": "[encoded data removed]"
          },
          "metadata": {}
        }
      ]
    },
    {
      "cell_type": "markdown",
      "source": [
        "### 第十五個欄位(street\t)"
      ],
      "metadata": {
        "id": "J0EMvk0IToY5"
      }
    },
    {
      "cell_type": "code",
      "source": [
        "# 發現 street 的數量非常的多，因此選擇 drop 掉\n",
        "print(len(Dataset.street.unique()))\n",
        "Dataset = Dataset.drop([\"street\"], axis=1)"
      ],
      "metadata": {
        "id": "eX-FiUoSTgiZ",
        "colab": {
          "base_uri": "https://localhost:8080/"
        },
        "outputId": "11062873-a06a-4144-eb4d-246fbc4759b5"
      },
      "execution_count": 50,
      "outputs": [
        {
          "output_type": "stream",
          "name": "stdout",
          "text": [
            "4473\n"
          ]
        }
      ]
    },
    {
      "cell_type": "markdown",
      "source": [
        "### 第十六個欄位(city)"
      ],
      "metadata": {
        "id": "xYLGorU4Tf5c"
      }
    },
    {
      "cell_type": "code",
      "source": [
        "Dataset[\"city\"].value_counts()"
      ],
      "metadata": {
        "id": "EsRjhLv0UNoS",
        "colab": {
          "base_uri": "https://localhost:8080/"
        },
        "outputId": "09ce79d4-367d-4f01-8acf-4d1c369e0e10"
      },
      "execution_count": 51,
      "outputs": [
        {
          "output_type": "execute_result",
          "data": {
            "text/plain": [
              "Seattle                1560\n",
              "Renton                  291\n",
              "Bellevue                280\n",
              "Redmond                 235\n",
              "Kirkland                187\n",
              "Issaquah                186\n",
              "Kent                    183\n",
              "Auburn                  175\n",
              "Sammamish               171\n",
              "Federal Way             145\n",
              "Shoreline               123\n",
              "Woodinville             114\n",
              "Maple Valley             95\n",
              "Mercer Island            82\n",
              "Burien                   72\n",
              "Snoqualmie               69\n",
              "Kenmore                  65\n",
              "Des Moines               58\n",
              "North Bend               50\n",
              "Duvall                   42\n",
              "Covington                42\n",
              "Lake Forest Park         34\n",
              "Bothell                  33\n",
              "Newcastle                33\n",
              "Tukwila                  29\n",
              "Vashon                   29\n",
              "SeaTac                   28\n",
              "Enumclaw                 27\n",
              "Carnation                22\n",
              "Normandy Park            17\n",
              "Fall City                11\n",
              "Medina                   11\n",
              "Clyde Hill                9\n",
              "Black Diamond             8\n",
              "Ravensdale                7\n",
              "Pacific                   6\n",
              "Algona                    5\n",
              "Yarrow Point              4\n",
              "Skykomish                 3\n",
              "Preston                   2\n",
              "Milton                    2\n",
              "Inglewood-Finn Hill       1\n",
              "Snoqualmie Pass           1\n",
              "Beaux Arts Village        1\n",
              "Name: city, dtype: int64"
            ]
          },
          "metadata": {},
          "execution_count": 51
        }
      ]
    },
    {
      "cell_type": "markdown",
      "source": [
        "### 第十七個欄位(statezip)"
      ],
      "metadata": {
        "id": "1P_42QE-T8hl"
      }
    },
    {
      "cell_type": "code",
      "source": [
        "Dataset[\"statezip\"].value_counts()"
      ],
      "metadata": {
        "id": "yx6ulJLhUSXp",
        "colab": {
          "base_uri": "https://localhost:8080/"
        },
        "outputId": "e32269f5-96de-4764-a8dc-295d5b184467"
      },
      "execution_count": 52,
      "outputs": [
        {
          "output_type": "execute_result",
          "data": {
            "text/plain": [
              "WA 98103    148\n",
              "WA 98052    135\n",
              "WA 98117    132\n",
              "WA 98115    129\n",
              "WA 98006    109\n",
              "           ... \n",
              "WA 98047      6\n",
              "WA 98288      3\n",
              "WA 98050      2\n",
              "WA 98354      2\n",
              "WA 98068      1\n",
              "Name: statezip, Length: 77, dtype: int64"
            ]
          },
          "metadata": {},
          "execution_count": 52
        }
      ]
    },
    {
      "cell_type": "markdown",
      "source": [
        "### 第十八個欄位(country)"
      ],
      "metadata": {
        "id": "FSasadLJT-Ou"
      }
    },
    {
      "cell_type": "code",
      "source": [
        "Dataset[\"country\"].value_counts()\n",
        "\n",
        "# 發現大家都是 USA，所以可以 Drop 掉\n",
        "# 在這邊一併把 Outlier 這個欄位 Drop 掉\n",
        "Dataset = Dataset.drop([\"country\", \"Outlier\"], axis=1)"
      ],
      "metadata": {
        "id": "2jd4OGGcUWLP"
      },
      "execution_count": 53,
      "outputs": []
    },
    {
      "cell_type": "markdown",
      "source": [
        "## 步驟三: 辨識 數值型與類別型特徵"
      ],
      "metadata": {
        "id": "5uUTVPMfUymB"
      }
    },
    {
      "cell_type": "code",
      "source": [
        "numerical_attributes = []\n",
        "categorical_attributes = []\n",
        "\n",
        "for attr in Dataset.columns:\n",
        "  #print(Dataset[attr].dtypes)\n",
        "\n",
        "  attr_type = Dataset[attr].dtypes\n",
        "  if attr_type == \"float64\" or attr_type == \"int64\":\n",
        "    numerical_attributes.append(attr)\n",
        "  elif attr_type == \"object\":\n",
        "    categorical_attributes.append(attr)\n",
        "\n",
        "numerical_attributes.remove(\"price\")\n",
        "\n",
        "print(f\"數值型的 Attributes 有: {numerical_attributes}\")\n",
        "print(f\"類別型的 Attributes 有: {categorical_attributes}\")"
      ],
      "metadata": {
        "id": "MrTG-EUJMWII",
        "colab": {
          "base_uri": "https://localhost:8080/"
        },
        "outputId": "308f7a31-5756-4646-ecb4-5b761860bf9f"
      },
      "execution_count": 54,
      "outputs": [
        {
          "output_type": "stream",
          "name": "stdout",
          "text": [
            "數值型的 Attributes 有: ['bedrooms', 'bathrooms', 'sqft_living', 'sqft_lot', 'floors', 'waterfront', 'view', 'condition', 'sqft_above', 'sqft_basement', 'yr_built', 'yr_renovated']\n",
            "類別型的 Attributes 有: ['date', 'city', 'statezip']\n"
          ]
        }
      ]
    },
    {
      "cell_type": "markdown",
      "source": [
        "## 步驟四: 進行 One-Hot Encoding"
      ],
      "metadata": {
        "id": "WBTLdrCrVA3L"
      }
    },
    {
      "cell_type": "code",
      "source": [
        "# 使用 pandas 的 get_dummies，可以迅速的對 Dataset 中屬於類別型的欄位進行 One-Hot Encoding\n",
        "\n",
        "print(f\"One-Hot Encoding 前有 {Dataset.shape[1]} 個欄位\")\n",
        "One_Hot_Dataset = pd.get_dummies(Dataset)\n",
        "print(f\"One-Hot Encoding 後有 {One_Hot_Dataset.shape[1]} 個欄位\")\n",
        "One_Hot_Dataset.head()"
      ],
      "metadata": {
        "id": "pdrxojHmPUfx",
        "colab": {
          "base_uri": "https://localhost:8080/",
          "height": 351
        },
        "outputId": "2e313bdf-412b-4c9b-dbe8-9f79ec51a8fa"
      },
      "execution_count": 55,
      "outputs": [
        {
          "output_type": "stream",
          "name": "stdout",
          "text": [
            "One-Hot Encoding 前有 16 個欄位\n",
            "One-Hot Encoding 後有 137 個欄位\n"
          ]
        },
        {
          "output_type": "execute_result",
          "data": {
            "text/plain": [
              "       price  bedrooms  bathrooms  sqft_living  sqft_lot  floors  waterfront  \\\n",
              "0   313000.0       3.0       1.50         1340      7912     1.5           0   \n",
              "1  2384000.0       5.0       2.50         3650      9050     2.0           0   \n",
              "2   342000.0       3.0       2.00         1930     11947     1.0           0   \n",
              "3   420000.0       3.0       2.25         2000      8030     1.0           0   \n",
              "4   550000.0       4.0       2.50         1940     10500     1.0           0   \n",
              "\n",
              "   view  condition  sqft_above  ...  statezip_WA 98155  statezip_WA 98166  \\\n",
              "0     0          3        1340  ...                  0                  0   \n",
              "1     4          5        3370  ...                  0                  0   \n",
              "2     0          4        1930  ...                  0                  0   \n",
              "3     0          4        1000  ...                  0                  0   \n",
              "4     0          4        1140  ...                  0                  0   \n",
              "\n",
              "   statezip_WA 98168  statezip_WA 98177  statezip_WA 98178  statezip_WA 98188  \\\n",
              "0                  0                  0                  0                  0   \n",
              "1                  0                  0                  0                  0   \n",
              "2                  0                  0                  0                  0   \n",
              "3                  0                  0                  0                  0   \n",
              "4                  0                  0                  0                  0   \n",
              "\n",
              "   statezip_WA 98198  statezip_WA 98199  statezip_WA 98288  statezip_WA 98354  \n",
              "0                  0                  0                  0                  0  \n",
              "1                  0                  0                  0                  0  \n",
              "2                  0                  0                  0                  0  \n",
              "3                  0                  0                  0                  0  \n",
              "4                  0                  0                  0                  0  \n",
              "\n",
              "[5 rows x 137 columns]"
            ],
            "text/html": [
              "\n",
              "\n",
              "  <div id=\"df-35394877-5fdb-4ffa-beb9-8804b089c0bd\">\n",
              "    <div class=\"colab-df-container\">\n",
              "      <div>\n",
              "<style scoped>\n",
              "    .dataframe tbody tr th:only-of-type {\n",
              "        vertical-align: middle;\n",
              "    }\n",
              "\n",
              "    .dataframe tbody tr th {\n",
              "        vertical-align: top;\n",
              "    }\n",
              "\n",
              "    .dataframe thead th {\n",
              "        text-align: right;\n",
              "    }\n",
              "</style>\n",
              "<table border=\"1\" class=\"dataframe\">\n",
              "  <thead>\n",
              "    <tr style=\"text-align: right;\">\n",
              "      <th></th>\n",
              "      <th>price</th>\n",
              "      <th>bedrooms</th>\n",
              "      <th>bathrooms</th>\n",
              "      <th>sqft_living</th>\n",
              "      <th>sqft_lot</th>\n",
              "      <th>floors</th>\n",
              "      <th>waterfront</th>\n",
              "      <th>view</th>\n",
              "      <th>condition</th>\n",
              "      <th>sqft_above</th>\n",
              "      <th>...</th>\n",
              "      <th>statezip_WA 98155</th>\n",
              "      <th>statezip_WA 98166</th>\n",
              "      <th>statezip_WA 98168</th>\n",
              "      <th>statezip_WA 98177</th>\n",
              "      <th>statezip_WA 98178</th>\n",
              "      <th>statezip_WA 98188</th>\n",
              "      <th>statezip_WA 98198</th>\n",
              "      <th>statezip_WA 98199</th>\n",
              "      <th>statezip_WA 98288</th>\n",
              "      <th>statezip_WA 98354</th>\n",
              "    </tr>\n",
              "  </thead>\n",
              "  <tbody>\n",
              "    <tr>\n",
              "      <th>0</th>\n",
              "      <td>313000.0</td>\n",
              "      <td>3.0</td>\n",
              "      <td>1.50</td>\n",
              "      <td>1340</td>\n",
              "      <td>7912</td>\n",
              "      <td>1.5</td>\n",
              "      <td>0</td>\n",
              "      <td>0</td>\n",
              "      <td>3</td>\n",
              "      <td>1340</td>\n",
              "      <td>...</td>\n",
              "      <td>0</td>\n",
              "      <td>0</td>\n",
              "      <td>0</td>\n",
              "      <td>0</td>\n",
              "      <td>0</td>\n",
              "      <td>0</td>\n",
              "      <td>0</td>\n",
              "      <td>0</td>\n",
              "      <td>0</td>\n",
              "      <td>0</td>\n",
              "    </tr>\n",
              "    <tr>\n",
              "      <th>1</th>\n",
              "      <td>2384000.0</td>\n",
              "      <td>5.0</td>\n",
              "      <td>2.50</td>\n",
              "      <td>3650</td>\n",
              "      <td>9050</td>\n",
              "      <td>2.0</td>\n",
              "      <td>0</td>\n",
              "      <td>4</td>\n",
              "      <td>5</td>\n",
              "      <td>3370</td>\n",
              "      <td>...</td>\n",
              "      <td>0</td>\n",
              "      <td>0</td>\n",
              "      <td>0</td>\n",
              "      <td>0</td>\n",
              "      <td>0</td>\n",
              "      <td>0</td>\n",
              "      <td>0</td>\n",
              "      <td>0</td>\n",
              "      <td>0</td>\n",
              "      <td>0</td>\n",
              "    </tr>\n",
              "    <tr>\n",
              "      <th>2</th>\n",
              "      <td>342000.0</td>\n",
              "      <td>3.0</td>\n",
              "      <td>2.00</td>\n",
              "      <td>1930</td>\n",
              "      <td>11947</td>\n",
              "      <td>1.0</td>\n",
              "      <td>0</td>\n",
              "      <td>0</td>\n",
              "      <td>4</td>\n",
              "      <td>1930</td>\n",
              "      <td>...</td>\n",
              "      <td>0</td>\n",
              "      <td>0</td>\n",
              "      <td>0</td>\n",
              "      <td>0</td>\n",
              "      <td>0</td>\n",
              "      <td>0</td>\n",
              "      <td>0</td>\n",
              "      <td>0</td>\n",
              "      <td>0</td>\n",
              "      <td>0</td>\n",
              "    </tr>\n",
              "    <tr>\n",
              "      <th>3</th>\n",
              "      <td>420000.0</td>\n",
              "      <td>3.0</td>\n",
              "      <td>2.25</td>\n",
              "      <td>2000</td>\n",
              "      <td>8030</td>\n",
              "      <td>1.0</td>\n",
              "      <td>0</td>\n",
              "      <td>0</td>\n",
              "      <td>4</td>\n",
              "      <td>1000</td>\n",
              "      <td>...</td>\n",
              "      <td>0</td>\n",
              "      <td>0</td>\n",
              "      <td>0</td>\n",
              "      <td>0</td>\n",
              "      <td>0</td>\n",
              "      <td>0</td>\n",
              "      <td>0</td>\n",
              "      <td>0</td>\n",
              "      <td>0</td>\n",
              "      <td>0</td>\n",
              "    </tr>\n",
              "    <tr>\n",
              "      <th>4</th>\n",
              "      <td>550000.0</td>\n",
              "      <td>4.0</td>\n",
              "      <td>2.50</td>\n",
              "      <td>1940</td>\n",
              "      <td>10500</td>\n",
              "      <td>1.0</td>\n",
              "      <td>0</td>\n",
              "      <td>0</td>\n",
              "      <td>4</td>\n",
              "      <td>1140</td>\n",
              "      <td>...</td>\n",
              "      <td>0</td>\n",
              "      <td>0</td>\n",
              "      <td>0</td>\n",
              "      <td>0</td>\n",
              "      <td>0</td>\n",
              "      <td>0</td>\n",
              "      <td>0</td>\n",
              "      <td>0</td>\n",
              "      <td>0</td>\n",
              "      <td>0</td>\n",
              "    </tr>\n",
              "  </tbody>\n",
              "</table>\n",
              "<p>5 rows × 137 columns</p>\n",
              "</div>\n",
              "      <button class=\"colab-df-convert\" onclick=\"convertToInteractive('df-35394877-5fdb-4ffa-beb9-8804b089c0bd')\"\n",
              "              title=\"Convert this dataframe to an interactive table.\"\n",
              "              style=\"display:none;\">\n",
              "\n",
              "  <svg xmlns=\"http://www.w3.org/2000/svg\" height=\"24px\"viewBox=\"0 0 24 24\"\n",
              "       width=\"24px\">\n",
              "    <path d=\"M0 0h24v24H0V0z\" fill=\"none\"/>\n",
              "    <path d=\"M18.56 5.44l.94 2.06.94-2.06 2.06-.94-2.06-.94-.94-2.06-.94 2.06-2.06.94zm-11 1L8.5 8.5l.94-2.06 2.06-.94-2.06-.94L8.5 2.5l-.94 2.06-2.06.94zm10 10l.94 2.06.94-2.06 2.06-.94-2.06-.94-.94-2.06-.94 2.06-2.06.94z\"/><path d=\"M17.41 7.96l-1.37-1.37c-.4-.4-.92-.59-1.43-.59-.52 0-1.04.2-1.43.59L10.3 9.45l-7.72 7.72c-.78.78-.78 2.05 0 2.83L4 21.41c.39.39.9.59 1.41.59.51 0 1.02-.2 1.41-.59l7.78-7.78 2.81-2.81c.8-.78.8-2.07 0-2.86zM5.41 20L4 18.59l7.72-7.72 1.47 1.35L5.41 20z\"/>\n",
              "  </svg>\n",
              "      </button>\n",
              "\n",
              "\n",
              "\n",
              "    <div id=\"df-431b586e-b505-4c72-8cb2-1b468f395abf\">\n",
              "      <button class=\"colab-df-quickchart\" onclick=\"quickchart('df-431b586e-b505-4c72-8cb2-1b468f395abf')\"\n",
              "              title=\"Suggest charts.\"\n",
              "              style=\"display:none;\">\n",
              "\n",
              "<svg xmlns=\"http://www.w3.org/2000/svg\" height=\"24px\"viewBox=\"0 0 24 24\"\n",
              "     width=\"24px\">\n",
              "    <g>\n",
              "        <path d=\"M19 3H5c-1.1 0-2 .9-2 2v14c0 1.1.9 2 2 2h14c1.1 0 2-.9 2-2V5c0-1.1-.9-2-2-2zM9 17H7v-7h2v7zm4 0h-2V7h2v10zm4 0h-2v-4h2v4z\"/>\n",
              "    </g>\n",
              "</svg>\n",
              "      </button>\n",
              "    </div>\n",
              "\n",
              "<style>\n",
              "  .colab-df-quickchart {\n",
              "    background-color: #E8F0FE;\n",
              "    border: none;\n",
              "    border-radius: 50%;\n",
              "    cursor: pointer;\n",
              "    display: none;\n",
              "    fill: #1967D2;\n",
              "    height: 32px;\n",
              "    padding: 0 0 0 0;\n",
              "    width: 32px;\n",
              "  }\n",
              "\n",
              "  .colab-df-quickchart:hover {\n",
              "    background-color: #E2EBFA;\n",
              "    box-shadow: 0px 1px 2px rgba(60, 64, 67, 0.3), 0px 1px 3px 1px rgba(60, 64, 67, 0.15);\n",
              "    fill: #174EA6;\n",
              "  }\n",
              "\n",
              "  [theme=dark] .colab-df-quickchart {\n",
              "    background-color: #3B4455;\n",
              "    fill: #D2E3FC;\n",
              "  }\n",
              "\n",
              "  [theme=dark] .colab-df-quickchart:hover {\n",
              "    background-color: #434B5C;\n",
              "    box-shadow: 0px 1px 3px 1px rgba(0, 0, 0, 0.15);\n",
              "    filter: drop-shadow(0px 1px 2px rgba(0, 0, 0, 0.3));\n",
              "    fill: #FFFFFF;\n",
              "  }\n",
              "</style>\n",
              "\n",
              "    <script>\n",
              "      async function quickchart(key) {\n",
              "        const containerElement = document.querySelector('#' + key);\n",
              "        const charts = await google.colab.kernel.invokeFunction(\n",
              "            'suggestCharts', [key], {});\n",
              "      }\n",
              "    </script>\n",
              "\n",
              "      <script>\n",
              "\n",
              "function displayQuickchartButton(domScope) {\n",
              "  let quickchartButtonEl =\n",
              "    domScope.querySelector('#df-431b586e-b505-4c72-8cb2-1b468f395abf button.colab-df-quickchart');\n",
              "  quickchartButtonEl.style.display =\n",
              "    google.colab.kernel.accessAllowed ? 'block' : 'none';\n",
              "}\n",
              "\n",
              "        displayQuickchartButton(document);\n",
              "      </script>\n",
              "      <style>\n",
              "    .colab-df-container {\n",
              "      display:flex;\n",
              "      flex-wrap:wrap;\n",
              "      gap: 12px;\n",
              "    }\n",
              "\n",
              "    .colab-df-convert {\n",
              "      background-color: #E8F0FE;\n",
              "      border: none;\n",
              "      border-radius: 50%;\n",
              "      cursor: pointer;\n",
              "      display: none;\n",
              "      fill: #1967D2;\n",
              "      height: 32px;\n",
              "      padding: 0 0 0 0;\n",
              "      width: 32px;\n",
              "    }\n",
              "\n",
              "    .colab-df-convert:hover {\n",
              "      background-color: #E2EBFA;\n",
              "      box-shadow: 0px 1px 2px rgba(60, 64, 67, 0.3), 0px 1px 3px 1px rgba(60, 64, 67, 0.15);\n",
              "      fill: #174EA6;\n",
              "    }\n",
              "\n",
              "    [theme=dark] .colab-df-convert {\n",
              "      background-color: #3B4455;\n",
              "      fill: #D2E3FC;\n",
              "    }\n",
              "\n",
              "    [theme=dark] .colab-df-convert:hover {\n",
              "      background-color: #434B5C;\n",
              "      box-shadow: 0px 1px 3px 1px rgba(0, 0, 0, 0.15);\n",
              "      filter: drop-shadow(0px 1px 2px rgba(0, 0, 0, 0.3));\n",
              "      fill: #FFFFFF;\n",
              "    }\n",
              "  </style>\n",
              "\n",
              "      <script>\n",
              "        const buttonEl =\n",
              "          document.querySelector('#df-35394877-5fdb-4ffa-beb9-8804b089c0bd button.colab-df-convert');\n",
              "        buttonEl.style.display =\n",
              "          google.colab.kernel.accessAllowed ? 'block' : 'none';\n",
              "\n",
              "        async function convertToInteractive(key) {\n",
              "          const element = document.querySelector('#df-35394877-5fdb-4ffa-beb9-8804b089c0bd');\n",
              "          const dataTable =\n",
              "            await google.colab.kernel.invokeFunction('convertToInteractive',\n",
              "                                                     [key], {});\n",
              "          if (!dataTable) return;\n",
              "\n",
              "          const docLinkHtml = 'Like what you see? Visit the ' +\n",
              "            '<a target=\"_blank\" href=https://colab.research.google.com/notebooks/data_table.ipynb>data table notebook</a>'\n",
              "            + ' to learn more about interactive tables.';\n",
              "          element.innerHTML = '';\n",
              "          dataTable['output_type'] = 'display_data';\n",
              "          await google.colab.output.renderOutput(dataTable, element);\n",
              "          const docLink = document.createElement('div');\n",
              "          docLink.innerHTML = docLinkHtml;\n",
              "          element.appendChild(docLink);\n",
              "        }\n",
              "      </script>\n",
              "    </div>\n",
              "  </div>\n"
            ]
          },
          "metadata": {},
          "execution_count": 55
        }
      ]
    },
    {
      "cell_type": "markdown",
      "source": [
        "## 步驟五: 進行資料切分"
      ],
      "metadata": {
        "id": "557uItX0VjIA"
      }
    },
    {
      "cell_type": "code",
      "source": [
        "# 引入這部分會使用到的套件\n",
        "from sklearn.model_selection import train_test_split\n",
        "\n",
        "# 區分 X 與 Y\n",
        "Y = One_Hot_Dataset[\"price\"]\n",
        "X = One_Hot_Dataset.drop([\"price\"], axis=1)\n",
        "\n",
        "# 進行資料集切分\n",
        "X_train, X_test, Y_train, Y_test = train_test_split(X, Y, test_size=0.2, random_state=41)\n",
        "print(X_train.shape)\n",
        "print(Y_train.shape)\n",
        "print(X_test.shape)\n",
        "print(Y_test.shape)"
      ],
      "metadata": {
        "id": "SEkKAPKFWJcK",
        "colab": {
          "base_uri": "https://localhost:8080/"
        },
        "outputId": "f64f64f8-36dd-4387-998f-25bd2f49881c"
      },
      "execution_count": 56,
      "outputs": [
        {
          "output_type": "stream",
          "name": "stdout",
          "text": [
            "(3638, 136)\n",
            "(3638,)\n",
            "(910, 136)\n",
            "(910,)\n"
          ]
        }
      ]
    },
    {
      "cell_type": "markdown",
      "source": [
        "## 步驟六: 進行 Feature Scaling"
      ],
      "metadata": {
        "id": "WrnTMVnyVOc0"
      }
    },
    {
      "cell_type": "code",
      "source": [
        "from sklearn.preprocessing import MinMaxScaler\n",
        "# 除了在多項式回歸模型有使用到的 MinMaxScaler\n",
        "# 還有什麼工具可以用來調整數值資料的 range 呢?\n",
        "from sklearn.preprocessing import StandardScaler\n",
        "\n",
        "# 取出 Training Dataset 和 Testing Dataset 的數值型資料\n",
        "X_train_numerical = X_train[numerical_attributes]\n",
        "X_test_numerical = X_test[numerical_attributes]\n",
        "\n",
        "# 僅使用 training dataset 的資料去找到 mapping 的 rule ，大家知道為什麼嗎?\n",
        "x_scaler = MinMaxScaler().fit(X_train_numerical)\n",
        "\n",
        "# 使用 scaler 對 training 與 testing dataset 的數值型資料進行 transform\n",
        "X_train_numerical_trans = x_scaler.transform(X_train_numerical)\n",
        "X_test_numerical_trans = x_scaler.transform(X_test_numerical)\n",
        "# 對數值型欄位的資料進行覆寫\n",
        "X_train[numerical_attributes] = X_train_numerical_trans\n",
        "X_test[numerical_attributes] = X_test_numerical_trans\n",
        "\n",
        "# 相較於上 Unit06 - 09 的 Notebook，這本 Notebook 多了下面這些操作\n",
        "# 針對 Y 做 Feature Scaling\n",
        "# 先按照直覺做，將會遇到 Error，我們一步一步解決\n",
        "y_scaler = StandardScaler().fit(Y_train.to_numpy().reshape(-1,1))\n",
        "Y_train_trans = y_scaler.transform(Y_train.to_numpy().reshape(-1,1))\n",
        "Y_test_trans = y_scaler.transform(Y_test.to_numpy().reshape(-1,1))"
      ],
      "metadata": {
        "id": "cfCR33VwUM6L"
      },
      "execution_count": 64,
      "outputs": []
    },
    {
      "cell_type": "markdown",
      "source": [
        "## 步驟七: 進行支援向量回歸模型擬合"
      ],
      "metadata": {
        "id": "QC946kbSVo8a"
      }
    },
    {
      "cell_type": "code",
      "source": [
        "# 引入這部分會使用到的套件\n",
        "from sklearn.svm import SVR\n",
        "\n",
        "# 訓練支援向量回歸模型\n",
        "# 參數(parameter)\n",
        "# kernel: \"rbf\", \"sigmoid\", \"polynomial\"\n",
        "# c: ... 0.01, 0.1, 1, 10, 100, ...\n",
        "# gamma: ..., 0.01, 0.1, 1, 10, 100, ...\n",
        "# degree: 只有 使用 polynomial kernal 的時候需要設定這個參數\n",
        "#\n",
        "#SVR_Algorithm = SVR(kernel=\"poly\", C=10, gamma=0.1, degree=3)\n",
        "SVR_Model = SVR(kernel=\"rbf\", C=10, gamma=0.1)\n",
        "SVR_Model.fit(X_train, Y_train_trans.reshape(-1))"
      ],
      "metadata": {
        "id": "jsU6I_-iYBUV",
        "colab": {
          "base_uri": "https://localhost:8080/",
          "height": 74
        },
        "outputId": "ba17fdf2-6b3b-4d11-cacf-b231affb322d"
      },
      "execution_count": 65,
      "outputs": [
        {
          "output_type": "execute_result",
          "data": {
            "text/plain": [
              "SVR(C=10, gamma=0.1)"
            ],
            "text/html": [
              "<style>#sk-container-id-1 {color: black;background-color: white;}#sk-container-id-1 pre{padding: 0;}#sk-container-id-1 div.sk-toggleable {background-color: white;}#sk-container-id-1 label.sk-toggleable__label {cursor: pointer;display: block;width: 100%;margin-bottom: 0;padding: 0.3em;box-sizing: border-box;text-align: center;}#sk-container-id-1 label.sk-toggleable__label-arrow:before {content: \"▸\";float: left;margin-right: 0.25em;color: #696969;}#sk-container-id-1 label.sk-toggleable__label-arrow:hover:before {color: black;}#sk-container-id-1 div.sk-estimator:hover label.sk-toggleable__label-arrow:before {color: black;}#sk-container-id-1 div.sk-toggleable__content {max-height: 0;max-width: 0;overflow: hidden;text-align: left;background-color: #f0f8ff;}#sk-container-id-1 div.sk-toggleable__content pre {margin: 0.2em;color: black;border-radius: 0.25em;background-color: #f0f8ff;}#sk-container-id-1 input.sk-toggleable__control:checked~div.sk-toggleable__content {max-height: 200px;max-width: 100%;overflow: auto;}#sk-container-id-1 input.sk-toggleable__control:checked~label.sk-toggleable__label-arrow:before {content: \"▾\";}#sk-container-id-1 div.sk-estimator input.sk-toggleable__control:checked~label.sk-toggleable__label {background-color: #d4ebff;}#sk-container-id-1 div.sk-label input.sk-toggleable__control:checked~label.sk-toggleable__label {background-color: #d4ebff;}#sk-container-id-1 input.sk-hidden--visually {border: 0;clip: rect(1px 1px 1px 1px);clip: rect(1px, 1px, 1px, 1px);height: 1px;margin: -1px;overflow: hidden;padding: 0;position: absolute;width: 1px;}#sk-container-id-1 div.sk-estimator {font-family: monospace;background-color: #f0f8ff;border: 1px dotted black;border-radius: 0.25em;box-sizing: border-box;margin-bottom: 0.5em;}#sk-container-id-1 div.sk-estimator:hover {background-color: #d4ebff;}#sk-container-id-1 div.sk-parallel-item::after {content: \"\";width: 100%;border-bottom: 1px solid gray;flex-grow: 1;}#sk-container-id-1 div.sk-label:hover label.sk-toggleable__label {background-color: #d4ebff;}#sk-container-id-1 div.sk-serial::before {content: \"\";position: absolute;border-left: 1px solid gray;box-sizing: border-box;top: 0;bottom: 0;left: 50%;z-index: 0;}#sk-container-id-1 div.sk-serial {display: flex;flex-direction: column;align-items: center;background-color: white;padding-right: 0.2em;padding-left: 0.2em;position: relative;}#sk-container-id-1 div.sk-item {position: relative;z-index: 1;}#sk-container-id-1 div.sk-parallel {display: flex;align-items: stretch;justify-content: center;background-color: white;position: relative;}#sk-container-id-1 div.sk-item::before, #sk-container-id-1 div.sk-parallel-item::before {content: \"\";position: absolute;border-left: 1px solid gray;box-sizing: border-box;top: 0;bottom: 0;left: 50%;z-index: -1;}#sk-container-id-1 div.sk-parallel-item {display: flex;flex-direction: column;z-index: 1;position: relative;background-color: white;}#sk-container-id-1 div.sk-parallel-item:first-child::after {align-self: flex-end;width: 50%;}#sk-container-id-1 div.sk-parallel-item:last-child::after {align-self: flex-start;width: 50%;}#sk-container-id-1 div.sk-parallel-item:only-child::after {width: 0;}#sk-container-id-1 div.sk-dashed-wrapped {border: 1px dashed gray;margin: 0 0.4em 0.5em 0.4em;box-sizing: border-box;padding-bottom: 0.4em;background-color: white;}#sk-container-id-1 div.sk-label label {font-family: monospace;font-weight: bold;display: inline-block;line-height: 1.2em;}#sk-container-id-1 div.sk-label-container {text-align: center;}#sk-container-id-1 div.sk-container {/* jupyter's `normalize.less` sets `[hidden] { display: none; }` but bootstrap.min.css set `[hidden] { display: none !important; }` so we also need the `!important` here to be able to override the default hidden behavior on the sphinx rendered scikit-learn.org. See: https://github.com/scikit-learn/scikit-learn/issues/21755 */display: inline-block !important;position: relative;}#sk-container-id-1 div.sk-text-repr-fallback {display: none;}</style><div id=\"sk-container-id-1\" class=\"sk-top-container\"><div class=\"sk-text-repr-fallback\"><pre>SVR(C=10, gamma=0.1)</pre><b>In a Jupyter environment, please rerun this cell to show the HTML representation or trust the notebook. <br />On GitHub, the HTML representation is unable to render, please try loading this page with nbviewer.org.</b></div><div class=\"sk-container\" hidden><div class=\"sk-item\"><div class=\"sk-estimator sk-toggleable\"><input class=\"sk-toggleable__control sk-hidden--visually\" id=\"sk-estimator-id-1\" type=\"checkbox\" checked><label for=\"sk-estimator-id-1\" class=\"sk-toggleable__label sk-toggleable__label-arrow\">SVR</label><div class=\"sk-toggleable__content\"><pre>SVR(C=10, gamma=0.1)</pre></div></div></div></div></div>"
            ]
          },
          "metadata": {},
          "execution_count": 65
        }
      ]
    },
    {
      "cell_type": "markdown",
      "source": [
        "## 步驟八: 進行預測與評估"
      ],
      "metadata": {
        "id": "rpysdajUVxQz"
      }
    },
    {
      "cell_type": "code",
      "source": [
        "# 使用訓練的支援向量回歸模型進行預測 (on validation dataset)\n",
        "SVR_Predictions = SVR_Model.predict(X_test)\n",
        "\n",
        "# 記得要做 inverse transform 在預測值上\n",
        "# 先按照直覺做，將會遇到 Error，我們一步一步解決\n",
        "SVR_Predictions_inv = y_scaler.inverse_transform(SVR_Predictions.reshape(-1,1))\n",
        "y_test_inv = y_scaler.inverse_transform(Y_test_trans.reshape(-1,1))\n",
        "\n",
        "Total_Error=0\n",
        "# 列印出預測結果與正確解答\n",
        "counter = 0\n",
        "for pred, ans in zip(SVR_Predictions_inv.reshape(-1), y_test_inv.reshape(-1)):\n",
        "  if counter < 50:\n",
        "    print(f\"第{counter+1}筆預測結果: {round(pred)} vs. 實際答案: {round(ans)}\")\n",
        "\n",
        "  # 挑出特別不合理的預測值\n",
        "  if abs(pred-ans) > 1e10:\n",
        "    print(f\"第{counter+1}筆預測值較為異常{round(pred)}，而答案為{round(ans)}\")\n",
        "  else:\n",
        "    Total_Error = Total_Error + (abs(pred-ans))\n",
        "  counter = counter + 1\n",
        "\n",
        "print(f\"\\n平均誤差值是 {round(Total_Error/len(SVR_Predictions))}\")"
      ],
      "metadata": {
        "id": "FQEs_-5pezG3",
        "colab": {
          "base_uri": "https://localhost:8080/"
        },
        "outputId": "e42a8c30-bc87-46d3-ed60-2e011c498958"
      },
      "execution_count": 74,
      "outputs": [
        {
          "output_type": "stream",
          "name": "stdout",
          "text": [
            "第1筆預測結果: 238093 vs. 實際答案: 246000\n",
            "第2筆預測結果: 576964 vs. 實際答案: 530000\n",
            "第3筆預測結果: 277045 vs. 實際答案: 306000\n",
            "第4筆預測結果: 411634 vs. 實際答案: 417838\n",
            "第5筆預測結果: 226363 vs. 實際答案: 221000\n",
            "第6筆預測結果: 468193 vs. 實際答案: 465000\n",
            "第7筆預測結果: 590280 vs. 實際答案: 550000\n",
            "第8筆預測結果: 648168 vs. 實際答案: 398750\n",
            "第9筆預測結果: 708755 vs. 實際答案: 895000\n",
            "第10筆預測結果: 695900 vs. 實際答案: 799950\n",
            "第11筆預測結果: 275016 vs. 實際答案: 259586\n",
            "第12筆預測結果: 483016 vs. 實際答案: 478000\n",
            "第13筆預測結果: 551087 vs. 實際答案: 550000\n",
            "第14筆預測結果: 420057 vs. 實際答案: 440000\n",
            "第15筆預測結果: 562406 vs. 實際答案: 545000\n",
            "第16筆預測結果: 272494 vs. 實際答案: 329950\n",
            "第17筆預測結果: 447691 vs. 實際答案: 375000\n",
            "第18筆預測結果: 1073202 vs. 實際答案: 879950\n",
            "第19筆預測結果: 693827 vs. 實際答案: 720000\n",
            "第20筆預測結果: 358718 vs. 實際答案: 320000\n",
            "第21筆預測結果: 764770 vs. 實際答案: 730000\n",
            "第22筆預測結果: 781513 vs. 實際答案: 860000\n",
            "第23筆預測結果: 708974 vs. 實際答案: 675000\n",
            "第24筆預測結果: 450827 vs. 實際答案: 487585\n",
            "第25筆預測結果: 330307 vs. 實際答案: 450000\n",
            "第26筆預測結果: 592465 vs. 實際答案: 410000\n",
            "第27筆預測結果: 509140 vs. 實際答案: 490000\n",
            "第28筆預測結果: 517469 vs. 實際答案: 475000\n",
            "第29筆預測結果: 552744 vs. 實際答案: 649000\n",
            "第30筆預測結果: 243193 vs. 實際答案: 200000\n",
            "第31筆預測結果: 636221 vs. 實際答案: 651000\n",
            "第32筆預測結果: 699071 vs. 實際答案: 599000\n",
            "第33筆預測結果: 425665 vs. 實際答案: 405000\n",
            "第34筆預測結果: 611541 vs. 實際答案: 658588\n",
            "第35筆預測結果: 393897 vs. 實際答案: 385000\n",
            "第36筆預測結果: 541405 vs. 實際答案: 625000\n",
            "第37筆預測結果: 441594 vs. 實際答案: 542000\n",
            "第38筆預測結果: 669661 vs. 實際答案: 561000\n",
            "第39筆預測結果: 329031 vs. 實際答案: 276900\n",
            "第40筆預測結果: 746010 vs. 實際答案: 575000\n",
            "第41筆預測結果: 620406 vs. 實際答案: 659000\n",
            "第42筆預測結果: 701184 vs. 實際答案: 641633\n",
            "第43筆預測結果: 531955 vs. 實際答案: 593000\n",
            "第44筆預測結果: 1051009 vs. 實際答案: 1100000\n",
            "第45筆預測結果: 1438299 vs. 實際答案: 1920000\n",
            "第46筆預測結果: 140114 vs. 實際答案: 160000\n",
            "第47筆預測結果: 529161 vs. 實際答案: 525000\n",
            "第48筆預測結果: 828254 vs. 實際答案: 840500\n",
            "第49筆預測結果: 494634 vs. 實際答案: 515000\n",
            "第50筆預測結果: 544443 vs. 實際答案: 518500\n",
            "\n",
            "平均誤差值是 87154\n"
          ]
        }
      ]
    },
    {
      "cell_type": "markdown",
      "source": [
        "## 步驟九：實驗不同的參數組合"
      ],
      "metadata": {
        "id": "liIzEkquqBR4"
      }
    },
    {
      "cell_type": "code",
      "source": [
        "Y_test"
      ],
      "metadata": {
        "id": "A41ePuLfBC_9"
      },
      "execution_count": null,
      "outputs": []
    },
    {
      "cell_type": "code",
      "source": [
        "def test_SVR_parameter(kernel, C, gamma):\n",
        "  # 實例化演算法\n",
        "  SVR_Model = SVR(kernel=kernel, C=C, gamma=gamma)\n",
        "\n",
        "  # 訓練模型\n",
        "  SVR_Model.fit(X_train,Y_train_trans.reshape(-1))\n",
        "\n",
        "  # 評估模型\n",
        "  # 使用訓練的支援向量回歸模型進行預測 (on validation dataset)\n",
        "  SVR_Predictions = SVR_Model.predict(X_test)\n",
        "\n",
        "  # 記得要做 inverse transform 在預測值上\n",
        "  SVR_Predictions_inv = y_scaler.inverse_transform(SVR_Predictions.reshape(-1,1))\n",
        "\n",
        "\n",
        "  Total_Error=0\n",
        "  # 列印出預測結果與正確解答\n",
        "  counter = 0\n",
        "  for pred, ans in zip(SVR_Predictions_inv.reshape(-1), Y_test.to_numpy().reshape(-1)):\n",
        "    # if counter < 50:\n",
        "    #   print(f\"第{counter}筆預測結果: {round(pred)} vs. 實際答案: {round(ans)}\")\n",
        "\n",
        "    # 挑出特別不合理的預測值\n",
        "    if abs(pred-ans) > 1e10:\n",
        "      print(f\"第{counter}筆預測值較為異常{round(pred)}，而答案為{round(ans)}\")\n",
        "    else:\n",
        "      Total_Error = Total_Error + (abs(pred-ans))\n",
        "    counter = counter + 1\n",
        "\n",
        "  print(f\"\\n[C={C}, Gamma={gamma}]平均誤差值是 {round(Total_Error/len(SVR_Predictions))}\")"
      ],
      "metadata": {
        "id": "VchV30w7qAbo"
      },
      "execution_count": 80,
      "outputs": []
    },
    {
      "cell_type": "code",
      "source": [
        "kernel = \"rbf\"\n",
        "C_list = [0.01, 0.1, 1, 10, 100]\n",
        "Gamma_list = [0.01, 0.1, 1, 10, 100]\n",
        "for C in C_list:\n",
        "  for Gamma in Gamma_list:\n",
        "    test_SVR_parameter(kernel,C,Gamma)"
      ],
      "metadata": {
        "id": "XLdIw_r2EqRT",
        "colab": {
          "base_uri": "https://localhost:8080/"
        },
        "outputId": "3d4ce4a5-575c-4f31-8873-0d97349a5304"
      },
      "execution_count": 81,
      "outputs": [
        {
          "output_type": "stream",
          "name": "stdout",
          "text": [
            "\n",
            "[C=0.01, Gamma=0.01]平均誤差值是 203816\n",
            "\n",
            "[C=0.01, Gamma=0.1]平均誤差值是 173227\n",
            "\n",
            "[C=0.01, Gamma=1]平均誤差值是 185492\n",
            "\n",
            "[C=0.01, Gamma=10]平均誤差值是 203777\n",
            "\n",
            "[C=0.01, Gamma=100]平均誤差值是 209695\n",
            "\n",
            "[C=0.1, Gamma=0.01]平均誤差值是 161005\n",
            "\n",
            "[C=0.1, Gamma=0.1]平均誤差值是 108260\n",
            "\n",
            "[C=0.1, Gamma=1]平均誤差值是 130896\n",
            "\n",
            "[C=0.1, Gamma=10]平均誤差值是 173706\n",
            "\n",
            "[C=0.1, Gamma=100]平均誤差值是 202807\n",
            "\n",
            "[C=1, Gamma=0.01]平均誤差值是 103470\n",
            "\n",
            "[C=1, Gamma=0.1]平均誤差值是 88290\n",
            "\n",
            "[C=1, Gamma=1]平均誤差值是 102939\n",
            "\n",
            "[C=1, Gamma=10]平均誤差值是 144065\n",
            "\n",
            "[C=1, Gamma=100]平均誤差值是 195443\n",
            "\n",
            "[C=10, Gamma=0.01]平均誤差值是 90413\n",
            "\n",
            "[C=10, Gamma=0.1]平均誤差值是 87154\n",
            "\n",
            "[C=10, Gamma=1]平均誤差值是 103546\n",
            "\n",
            "[C=10, Gamma=10]平均誤差值是 150188\n",
            "\n",
            "[C=10, Gamma=100]平均誤差值是 209596\n",
            "\n",
            "[C=100, Gamma=0.01]平均誤差值是 88496\n",
            "\n",
            "[C=100, Gamma=0.1]平均誤差值是 91977\n",
            "\n",
            "[C=100, Gamma=1]平均誤差值是 112599\n",
            "\n",
            "[C=100, Gamma=10]平均誤差值是 153042\n",
            "\n",
            "[C=100, Gamma=100]平均誤差值是 210307\n"
          ]
        }
      ]
    }
  ]
}